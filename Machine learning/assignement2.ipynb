{
  "nbformat": 4,
  "nbformat_minor": 0,
  "metadata": {
    "colab": {
      "provenance": [],
      "collapsed_sections": []
    },
    "kernelspec": {
      "name": "python3",
      "display_name": "Python 3"
    },
    "language_info": {
      "name": "python"
    }
  },
  "cells": [
    {
      "cell_type": "markdown",
      "source": [
        "#Machine Learning Assignement 2\n",
        "###Barbe Victor 403715\n",
        "###Pierre-Louis Gaucher 403783\n",
        "###Antoine Bregeon 403719"
      ],
      "metadata": {
        "id": "rLGcBF12u1IG"
      }
    },
    {
      "cell_type": "markdown",
      "source": [
        "First of all, we import the needed libraries"
      ],
      "metadata": {
        "id": "N3fp3ZF-u7Ns"
      }
    },
    {
      "cell_type": "code",
      "source": [
        "import sklearn\n",
        "from pathlib import Path\n",
        "import pandas as pd\n",
        "import tarfile\n",
        "import urllib.request\n",
        "import numpy as np\n",
        "import matplotlib.pyplot as plt\n",
        "import seaborn as sns "
      ],
      "metadata": {
        "id": "t2a4tV-gMuP5"
      },
      "execution_count": 158,
      "outputs": []
    },
    {
      "cell_type": "markdown",
      "source": [
        "Then we upload the dataset and print the first rows to see its general form using .head()"
      ],
      "metadata": {
        "id": "_rh93xAnvAb3"
      }
    },
    {
      "cell_type": "code",
      "source": [
        "titles = pd.read_csv(Path(\"titles.csv\"))\n",
        "titles.head()"
      ],
      "metadata": {
        "id": "GuFSB_ChNEyT",
        "colab": {
          "base_uri": "https://localhost:8080/",
          "height": 540
        },
        "outputId": "a3aeee42-7e59-4143-bf1b-37300ae314c4"
      },
      "execution_count": 159,
      "outputs": [
        {
          "output_type": "execute_result",
          "data": {
            "text/plain": [
              "         id                                title   type  \\\n",
              "0  ts300399  Five Came Back: The Reference Films   SHOW   \n",
              "1   tm84618                          Taxi Driver  MOVIE   \n",
              "2  tm154986                          Deliverance  MOVIE   \n",
              "3  tm127384      Monty Python and the Holy Grail  MOVIE   \n",
              "4  tm120801                      The Dirty Dozen  MOVIE   \n",
              "\n",
              "                                         description  release_year  \\\n",
              "0  This collection includes 12 World War II-era p...          1945   \n",
              "1  A mentally unstable Vietnam War veteran works ...          1976   \n",
              "2  Intent on seeing the Cahulawassee River before...          1972   \n",
              "3  King Arthur, accompanied by his squire, recrui...          1975   \n",
              "4  12 American military prisoners in World War II...          1967   \n",
              "\n",
              "  age_certification  runtime                                       genres  \\\n",
              "0             TV-MA       51                            ['documentation']   \n",
              "1                 R      114                           ['drama', 'crime']   \n",
              "2                 R      109  ['drama', 'action', 'thriller', 'european']   \n",
              "3                PG       91              ['fantasy', 'action', 'comedy']   \n",
              "4               NaN      150                            ['war', 'action']   \n",
              "\n",
              "  production_countries  seasons    imdb_id  imdb_score  imdb_votes  \\\n",
              "0               ['US']      1.0        NaN         NaN         NaN   \n",
              "1               ['US']      NaN  tt0075314         8.2    808582.0   \n",
              "2               ['US']      NaN  tt0068473         7.7    107673.0   \n",
              "3               ['GB']      NaN  tt0071853         8.2    534486.0   \n",
              "4         ['GB', 'US']      NaN  tt0061578         7.7     72662.0   \n",
              "\n",
              "   tmdb_popularity  tmdb_score  \n",
              "0            0.600         NaN  \n",
              "1           40.965       8.179  \n",
              "2           10.010       7.300  \n",
              "3           15.461       7.811  \n",
              "4           20.398       7.600  "
            ],
            "text/html": [
              "\n",
              "  <div id=\"df-e7705e5c-461c-40af-ab0a-0a37a3ef7786\">\n",
              "    <div class=\"colab-df-container\">\n",
              "      <div>\n",
              "<style scoped>\n",
              "    .dataframe tbody tr th:only-of-type {\n",
              "        vertical-align: middle;\n",
              "    }\n",
              "\n",
              "    .dataframe tbody tr th {\n",
              "        vertical-align: top;\n",
              "    }\n",
              "\n",
              "    .dataframe thead th {\n",
              "        text-align: right;\n",
              "    }\n",
              "</style>\n",
              "<table border=\"1\" class=\"dataframe\">\n",
              "  <thead>\n",
              "    <tr style=\"text-align: right;\">\n",
              "      <th></th>\n",
              "      <th>id</th>\n",
              "      <th>title</th>\n",
              "      <th>type</th>\n",
              "      <th>description</th>\n",
              "      <th>release_year</th>\n",
              "      <th>age_certification</th>\n",
              "      <th>runtime</th>\n",
              "      <th>genres</th>\n",
              "      <th>production_countries</th>\n",
              "      <th>seasons</th>\n",
              "      <th>imdb_id</th>\n",
              "      <th>imdb_score</th>\n",
              "      <th>imdb_votes</th>\n",
              "      <th>tmdb_popularity</th>\n",
              "      <th>tmdb_score</th>\n",
              "    </tr>\n",
              "  </thead>\n",
              "  <tbody>\n",
              "    <tr>\n",
              "      <th>0</th>\n",
              "      <td>ts300399</td>\n",
              "      <td>Five Came Back: The Reference Films</td>\n",
              "      <td>SHOW</td>\n",
              "      <td>This collection includes 12 World War II-era p...</td>\n",
              "      <td>1945</td>\n",
              "      <td>TV-MA</td>\n",
              "      <td>51</td>\n",
              "      <td>['documentation']</td>\n",
              "      <td>['US']</td>\n",
              "      <td>1.0</td>\n",
              "      <td>NaN</td>\n",
              "      <td>NaN</td>\n",
              "      <td>NaN</td>\n",
              "      <td>0.600</td>\n",
              "      <td>NaN</td>\n",
              "    </tr>\n",
              "    <tr>\n",
              "      <th>1</th>\n",
              "      <td>tm84618</td>\n",
              "      <td>Taxi Driver</td>\n",
              "      <td>MOVIE</td>\n",
              "      <td>A mentally unstable Vietnam War veteran works ...</td>\n",
              "      <td>1976</td>\n",
              "      <td>R</td>\n",
              "      <td>114</td>\n",
              "      <td>['drama', 'crime']</td>\n",
              "      <td>['US']</td>\n",
              "      <td>NaN</td>\n",
              "      <td>tt0075314</td>\n",
              "      <td>8.2</td>\n",
              "      <td>808582.0</td>\n",
              "      <td>40.965</td>\n",
              "      <td>8.179</td>\n",
              "    </tr>\n",
              "    <tr>\n",
              "      <th>2</th>\n",
              "      <td>tm154986</td>\n",
              "      <td>Deliverance</td>\n",
              "      <td>MOVIE</td>\n",
              "      <td>Intent on seeing the Cahulawassee River before...</td>\n",
              "      <td>1972</td>\n",
              "      <td>R</td>\n",
              "      <td>109</td>\n",
              "      <td>['drama', 'action', 'thriller', 'european']</td>\n",
              "      <td>['US']</td>\n",
              "      <td>NaN</td>\n",
              "      <td>tt0068473</td>\n",
              "      <td>7.7</td>\n",
              "      <td>107673.0</td>\n",
              "      <td>10.010</td>\n",
              "      <td>7.300</td>\n",
              "    </tr>\n",
              "    <tr>\n",
              "      <th>3</th>\n",
              "      <td>tm127384</td>\n",
              "      <td>Monty Python and the Holy Grail</td>\n",
              "      <td>MOVIE</td>\n",
              "      <td>King Arthur, accompanied by his squire, recrui...</td>\n",
              "      <td>1975</td>\n",
              "      <td>PG</td>\n",
              "      <td>91</td>\n",
              "      <td>['fantasy', 'action', 'comedy']</td>\n",
              "      <td>['GB']</td>\n",
              "      <td>NaN</td>\n",
              "      <td>tt0071853</td>\n",
              "      <td>8.2</td>\n",
              "      <td>534486.0</td>\n",
              "      <td>15.461</td>\n",
              "      <td>7.811</td>\n",
              "    </tr>\n",
              "    <tr>\n",
              "      <th>4</th>\n",
              "      <td>tm120801</td>\n",
              "      <td>The Dirty Dozen</td>\n",
              "      <td>MOVIE</td>\n",
              "      <td>12 American military prisoners in World War II...</td>\n",
              "      <td>1967</td>\n",
              "      <td>NaN</td>\n",
              "      <td>150</td>\n",
              "      <td>['war', 'action']</td>\n",
              "      <td>['GB', 'US']</td>\n",
              "      <td>NaN</td>\n",
              "      <td>tt0061578</td>\n",
              "      <td>7.7</td>\n",
              "      <td>72662.0</td>\n",
              "      <td>20.398</td>\n",
              "      <td>7.600</td>\n",
              "    </tr>\n",
              "  </tbody>\n",
              "</table>\n",
              "</div>\n",
              "      <button class=\"colab-df-convert\" onclick=\"convertToInteractive('df-e7705e5c-461c-40af-ab0a-0a37a3ef7786')\"\n",
              "              title=\"Convert this dataframe to an interactive table.\"\n",
              "              style=\"display:none;\">\n",
              "        \n",
              "  <svg xmlns=\"http://www.w3.org/2000/svg\" height=\"24px\"viewBox=\"0 0 24 24\"\n",
              "       width=\"24px\">\n",
              "    <path d=\"M0 0h24v24H0V0z\" fill=\"none\"/>\n",
              "    <path d=\"M18.56 5.44l.94 2.06.94-2.06 2.06-.94-2.06-.94-.94-2.06-.94 2.06-2.06.94zm-11 1L8.5 8.5l.94-2.06 2.06-.94-2.06-.94L8.5 2.5l-.94 2.06-2.06.94zm10 10l.94 2.06.94-2.06 2.06-.94-2.06-.94-.94-2.06-.94 2.06-2.06.94z\"/><path d=\"M17.41 7.96l-1.37-1.37c-.4-.4-.92-.59-1.43-.59-.52 0-1.04.2-1.43.59L10.3 9.45l-7.72 7.72c-.78.78-.78 2.05 0 2.83L4 21.41c.39.39.9.59 1.41.59.51 0 1.02-.2 1.41-.59l7.78-7.78 2.81-2.81c.8-.78.8-2.07 0-2.86zM5.41 20L4 18.59l7.72-7.72 1.47 1.35L5.41 20z\"/>\n",
              "  </svg>\n",
              "      </button>\n",
              "      \n",
              "  <style>\n",
              "    .colab-df-container {\n",
              "      display:flex;\n",
              "      flex-wrap:wrap;\n",
              "      gap: 12px;\n",
              "    }\n",
              "\n",
              "    .colab-df-convert {\n",
              "      background-color: #E8F0FE;\n",
              "      border: none;\n",
              "      border-radius: 50%;\n",
              "      cursor: pointer;\n",
              "      display: none;\n",
              "      fill: #1967D2;\n",
              "      height: 32px;\n",
              "      padding: 0 0 0 0;\n",
              "      width: 32px;\n",
              "    }\n",
              "\n",
              "    .colab-df-convert:hover {\n",
              "      background-color: #E2EBFA;\n",
              "      box-shadow: 0px 1px 2px rgba(60, 64, 67, 0.3), 0px 1px 3px 1px rgba(60, 64, 67, 0.15);\n",
              "      fill: #174EA6;\n",
              "    }\n",
              "\n",
              "    [theme=dark] .colab-df-convert {\n",
              "      background-color: #3B4455;\n",
              "      fill: #D2E3FC;\n",
              "    }\n",
              "\n",
              "    [theme=dark] .colab-df-convert:hover {\n",
              "      background-color: #434B5C;\n",
              "      box-shadow: 0px 1px 3px 1px rgba(0, 0, 0, 0.15);\n",
              "      filter: drop-shadow(0px 1px 2px rgba(0, 0, 0, 0.3));\n",
              "      fill: #FFFFFF;\n",
              "    }\n",
              "  </style>\n",
              "\n",
              "      <script>\n",
              "        const buttonEl =\n",
              "          document.querySelector('#df-e7705e5c-461c-40af-ab0a-0a37a3ef7786 button.colab-df-convert');\n",
              "        buttonEl.style.display =\n",
              "          google.colab.kernel.accessAllowed ? 'block' : 'none';\n",
              "\n",
              "        async function convertToInteractive(key) {\n",
              "          const element = document.querySelector('#df-e7705e5c-461c-40af-ab0a-0a37a3ef7786');\n",
              "          const dataTable =\n",
              "            await google.colab.kernel.invokeFunction('convertToInteractive',\n",
              "                                                     [key], {});\n",
              "          if (!dataTable) return;\n",
              "\n",
              "          const docLinkHtml = 'Like what you see? Visit the ' +\n",
              "            '<a target=\"_blank\" href=https://colab.research.google.com/notebooks/data_table.ipynb>data table notebook</a>'\n",
              "            + ' to learn more about interactive tables.';\n",
              "          element.innerHTML = '';\n",
              "          dataTable['output_type'] = 'display_data';\n",
              "          await google.colab.output.renderOutput(dataTable, element);\n",
              "          const docLink = document.createElement('div');\n",
              "          docLink.innerHTML = docLinkHtml;\n",
              "          element.appendChild(docLink);\n",
              "        }\n",
              "      </script>\n",
              "    </div>\n",
              "  </div>\n",
              "  "
            ]
          },
          "metadata": {},
          "execution_count": 159
        }
      ]
    },
    {
      "cell_type": "markdown",
      "source": [
        "Here, we change the column type so it uses a numerical variable instead of a string one which isnt as easy to manipulate. If the type is 0 then it is a movie, if it is one then it is a show."
      ],
      "metadata": {
        "id": "NTM4hHZ9thN_"
      }
    },
    {
      "cell_type": "code",
      "source": [
        "# 1 for SHOWS, 0 for MOVIES\n",
        "titles[\"type\"] = titles[\"type\"].replace([\"SHOW\"], 1)\n",
        "titles[\"type\"] = titles[\"type\"].replace([\"MOVIE\"], 0)\n",
        "titles = titles.drop(columns = \"title\")\n",
        "titles = titles.drop(columns = \"description\")\n",
        "titles.head()"
      ],
      "metadata": {
        "id": "W6OnhaegRDcc",
        "colab": {
          "base_uri": "https://localhost:8080/",
          "height": 336
        },
        "outputId": "b1ccef3e-3b34-4008-cc54-2bc29017a46e"
      },
      "execution_count": 160,
      "outputs": [
        {
          "output_type": "execute_result",
          "data": {
            "text/plain": [
              "         id  type  release_year age_certification  runtime  \\\n",
              "0  ts300399     1          1945             TV-MA       51   \n",
              "1   tm84618     0          1976                 R      114   \n",
              "2  tm154986     0          1972                 R      109   \n",
              "3  tm127384     0          1975                PG       91   \n",
              "4  tm120801     0          1967               NaN      150   \n",
              "\n",
              "                                        genres production_countries  seasons  \\\n",
              "0                            ['documentation']               ['US']      1.0   \n",
              "1                           ['drama', 'crime']               ['US']      NaN   \n",
              "2  ['drama', 'action', 'thriller', 'european']               ['US']      NaN   \n",
              "3              ['fantasy', 'action', 'comedy']               ['GB']      NaN   \n",
              "4                            ['war', 'action']         ['GB', 'US']      NaN   \n",
              "\n",
              "     imdb_id  imdb_score  imdb_votes  tmdb_popularity  tmdb_score  \n",
              "0        NaN         NaN         NaN            0.600         NaN  \n",
              "1  tt0075314         8.2    808582.0           40.965       8.179  \n",
              "2  tt0068473         7.7    107673.0           10.010       7.300  \n",
              "3  tt0071853         8.2    534486.0           15.461       7.811  \n",
              "4  tt0061578         7.7     72662.0           20.398       7.600  "
            ],
            "text/html": [
              "\n",
              "  <div id=\"df-74fc7c29-5b92-4028-84c6-094f15f1a35f\">\n",
              "    <div class=\"colab-df-container\">\n",
              "      <div>\n",
              "<style scoped>\n",
              "    .dataframe tbody tr th:only-of-type {\n",
              "        vertical-align: middle;\n",
              "    }\n",
              "\n",
              "    .dataframe tbody tr th {\n",
              "        vertical-align: top;\n",
              "    }\n",
              "\n",
              "    .dataframe thead th {\n",
              "        text-align: right;\n",
              "    }\n",
              "</style>\n",
              "<table border=\"1\" class=\"dataframe\">\n",
              "  <thead>\n",
              "    <tr style=\"text-align: right;\">\n",
              "      <th></th>\n",
              "      <th>id</th>\n",
              "      <th>type</th>\n",
              "      <th>release_year</th>\n",
              "      <th>age_certification</th>\n",
              "      <th>runtime</th>\n",
              "      <th>genres</th>\n",
              "      <th>production_countries</th>\n",
              "      <th>seasons</th>\n",
              "      <th>imdb_id</th>\n",
              "      <th>imdb_score</th>\n",
              "      <th>imdb_votes</th>\n",
              "      <th>tmdb_popularity</th>\n",
              "      <th>tmdb_score</th>\n",
              "    </tr>\n",
              "  </thead>\n",
              "  <tbody>\n",
              "    <tr>\n",
              "      <th>0</th>\n",
              "      <td>ts300399</td>\n",
              "      <td>1</td>\n",
              "      <td>1945</td>\n",
              "      <td>TV-MA</td>\n",
              "      <td>51</td>\n",
              "      <td>['documentation']</td>\n",
              "      <td>['US']</td>\n",
              "      <td>1.0</td>\n",
              "      <td>NaN</td>\n",
              "      <td>NaN</td>\n",
              "      <td>NaN</td>\n",
              "      <td>0.600</td>\n",
              "      <td>NaN</td>\n",
              "    </tr>\n",
              "    <tr>\n",
              "      <th>1</th>\n",
              "      <td>tm84618</td>\n",
              "      <td>0</td>\n",
              "      <td>1976</td>\n",
              "      <td>R</td>\n",
              "      <td>114</td>\n",
              "      <td>['drama', 'crime']</td>\n",
              "      <td>['US']</td>\n",
              "      <td>NaN</td>\n",
              "      <td>tt0075314</td>\n",
              "      <td>8.2</td>\n",
              "      <td>808582.0</td>\n",
              "      <td>40.965</td>\n",
              "      <td>8.179</td>\n",
              "    </tr>\n",
              "    <tr>\n",
              "      <th>2</th>\n",
              "      <td>tm154986</td>\n",
              "      <td>0</td>\n",
              "      <td>1972</td>\n",
              "      <td>R</td>\n",
              "      <td>109</td>\n",
              "      <td>['drama', 'action', 'thriller', 'european']</td>\n",
              "      <td>['US']</td>\n",
              "      <td>NaN</td>\n",
              "      <td>tt0068473</td>\n",
              "      <td>7.7</td>\n",
              "      <td>107673.0</td>\n",
              "      <td>10.010</td>\n",
              "      <td>7.300</td>\n",
              "    </tr>\n",
              "    <tr>\n",
              "      <th>3</th>\n",
              "      <td>tm127384</td>\n",
              "      <td>0</td>\n",
              "      <td>1975</td>\n",
              "      <td>PG</td>\n",
              "      <td>91</td>\n",
              "      <td>['fantasy', 'action', 'comedy']</td>\n",
              "      <td>['GB']</td>\n",
              "      <td>NaN</td>\n",
              "      <td>tt0071853</td>\n",
              "      <td>8.2</td>\n",
              "      <td>534486.0</td>\n",
              "      <td>15.461</td>\n",
              "      <td>7.811</td>\n",
              "    </tr>\n",
              "    <tr>\n",
              "      <th>4</th>\n",
              "      <td>tm120801</td>\n",
              "      <td>0</td>\n",
              "      <td>1967</td>\n",
              "      <td>NaN</td>\n",
              "      <td>150</td>\n",
              "      <td>['war', 'action']</td>\n",
              "      <td>['GB', 'US']</td>\n",
              "      <td>NaN</td>\n",
              "      <td>tt0061578</td>\n",
              "      <td>7.7</td>\n",
              "      <td>72662.0</td>\n",
              "      <td>20.398</td>\n",
              "      <td>7.600</td>\n",
              "    </tr>\n",
              "  </tbody>\n",
              "</table>\n",
              "</div>\n",
              "      <button class=\"colab-df-convert\" onclick=\"convertToInteractive('df-74fc7c29-5b92-4028-84c6-094f15f1a35f')\"\n",
              "              title=\"Convert this dataframe to an interactive table.\"\n",
              "              style=\"display:none;\">\n",
              "        \n",
              "  <svg xmlns=\"http://www.w3.org/2000/svg\" height=\"24px\"viewBox=\"0 0 24 24\"\n",
              "       width=\"24px\">\n",
              "    <path d=\"M0 0h24v24H0V0z\" fill=\"none\"/>\n",
              "    <path d=\"M18.56 5.44l.94 2.06.94-2.06 2.06-.94-2.06-.94-.94-2.06-.94 2.06-2.06.94zm-11 1L8.5 8.5l.94-2.06 2.06-.94-2.06-.94L8.5 2.5l-.94 2.06-2.06.94zm10 10l.94 2.06.94-2.06 2.06-.94-2.06-.94-.94-2.06-.94 2.06-2.06.94z\"/><path d=\"M17.41 7.96l-1.37-1.37c-.4-.4-.92-.59-1.43-.59-.52 0-1.04.2-1.43.59L10.3 9.45l-7.72 7.72c-.78.78-.78 2.05 0 2.83L4 21.41c.39.39.9.59 1.41.59.51 0 1.02-.2 1.41-.59l7.78-7.78 2.81-2.81c.8-.78.8-2.07 0-2.86zM5.41 20L4 18.59l7.72-7.72 1.47 1.35L5.41 20z\"/>\n",
              "  </svg>\n",
              "      </button>\n",
              "      \n",
              "  <style>\n",
              "    .colab-df-container {\n",
              "      display:flex;\n",
              "      flex-wrap:wrap;\n",
              "      gap: 12px;\n",
              "    }\n",
              "\n",
              "    .colab-df-convert {\n",
              "      background-color: #E8F0FE;\n",
              "      border: none;\n",
              "      border-radius: 50%;\n",
              "      cursor: pointer;\n",
              "      display: none;\n",
              "      fill: #1967D2;\n",
              "      height: 32px;\n",
              "      padding: 0 0 0 0;\n",
              "      width: 32px;\n",
              "    }\n",
              "\n",
              "    .colab-df-convert:hover {\n",
              "      background-color: #E2EBFA;\n",
              "      box-shadow: 0px 1px 2px rgba(60, 64, 67, 0.3), 0px 1px 3px 1px rgba(60, 64, 67, 0.15);\n",
              "      fill: #174EA6;\n",
              "    }\n",
              "\n",
              "    [theme=dark] .colab-df-convert {\n",
              "      background-color: #3B4455;\n",
              "      fill: #D2E3FC;\n",
              "    }\n",
              "\n",
              "    [theme=dark] .colab-df-convert:hover {\n",
              "      background-color: #434B5C;\n",
              "      box-shadow: 0px 1px 3px 1px rgba(0, 0, 0, 0.15);\n",
              "      filter: drop-shadow(0px 1px 2px rgba(0, 0, 0, 0.3));\n",
              "      fill: #FFFFFF;\n",
              "    }\n",
              "  </style>\n",
              "\n",
              "      <script>\n",
              "        const buttonEl =\n",
              "          document.querySelector('#df-74fc7c29-5b92-4028-84c6-094f15f1a35f button.colab-df-convert');\n",
              "        buttonEl.style.display =\n",
              "          google.colab.kernel.accessAllowed ? 'block' : 'none';\n",
              "\n",
              "        async function convertToInteractive(key) {\n",
              "          const element = document.querySelector('#df-74fc7c29-5b92-4028-84c6-094f15f1a35f');\n",
              "          const dataTable =\n",
              "            await google.colab.kernel.invokeFunction('convertToInteractive',\n",
              "                                                     [key], {});\n",
              "          if (!dataTable) return;\n",
              "\n",
              "          const docLinkHtml = 'Like what you see? Visit the ' +\n",
              "            '<a target=\"_blank\" href=https://colab.research.google.com/notebooks/data_table.ipynb>data table notebook</a>'\n",
              "            + ' to learn more about interactive tables.';\n",
              "          element.innerHTML = '';\n",
              "          dataTable['output_type'] = 'display_data';\n",
              "          await google.colab.output.renderOutput(dataTable, element);\n",
              "          const docLink = document.createElement('div');\n",
              "          docLink.innerHTML = docLinkHtml;\n",
              "          element.appendChild(docLink);\n",
              "        }\n",
              "      </script>\n",
              "    </div>\n",
              "  </div>\n",
              "  "
            ]
          },
          "metadata": {},
          "execution_count": 160
        }
      ]
    },
    {
      "cell_type": "markdown",
      "source": [
        "Here we use two functions to get more information on the dataset. The function .info will print information about each column, and .column will simply print the name of all of the columns in the dataset"
      ],
      "metadata": {
        "id": "WmwEMYNturUU"
      }
    },
    {
      "cell_type": "code",
      "source": [
        "titles.info()\n",
        "titles.columns"
      ],
      "metadata": {
        "id": "jV_S6zIqO_cP",
        "colab": {
          "base_uri": "https://localhost:8080/",
          "height": 0
        },
        "outputId": "7ac4c3ec-9489-4ec9-ee0a-bd20c9a09e28"
      },
      "execution_count": 161,
      "outputs": [
        {
          "output_type": "stream",
          "name": "stdout",
          "text": [
            "<class 'pandas.core.frame.DataFrame'>\n",
            "RangeIndex: 5850 entries, 0 to 5849\n",
            "Data columns (total 13 columns):\n",
            " #   Column                Non-Null Count  Dtype  \n",
            "---  ------                --------------  -----  \n",
            " 0   id                    5850 non-null   object \n",
            " 1   type                  5850 non-null   int64  \n",
            " 2   release_year          5850 non-null   int64  \n",
            " 3   age_certification     3231 non-null   object \n",
            " 4   runtime               5850 non-null   int64  \n",
            " 5   genres                5850 non-null   object \n",
            " 6   production_countries  5850 non-null   object \n",
            " 7   seasons               2106 non-null   float64\n",
            " 8   imdb_id               5447 non-null   object \n",
            " 9   imdb_score            5368 non-null   float64\n",
            " 10  imdb_votes            5352 non-null   float64\n",
            " 11  tmdb_popularity       5759 non-null   float64\n",
            " 12  tmdb_score            5539 non-null   float64\n",
            "dtypes: float64(5), int64(3), object(5)\n",
            "memory usage: 594.3+ KB\n"
          ]
        },
        {
          "output_type": "execute_result",
          "data": {
            "text/plain": [
              "Index(['id', 'type', 'release_year', 'age_certification', 'runtime', 'genres',\n",
              "       'production_countries', 'seasons', 'imdb_id', 'imdb_score',\n",
              "       'imdb_votes', 'tmdb_popularity', 'tmdb_score'],\n",
              "      dtype='object')"
            ]
          },
          "metadata": {},
          "execution_count": 161
        }
      ]
    },
    {
      "cell_type": "code",
      "source": [
        "# extra code – the next 5 lines define the default font sizes\n",
        "plt.rc('font', size=14)\n",
        "plt.rc('axes', labelsize=14, titlesize=14)\n",
        "plt.rc('legend', fontsize=14)\n",
        "plt.rc('xtick', labelsize=10)\n",
        "plt.rc('ytick', labelsize=10)\n",
        "\n",
        "titles.hist(bins=50, figsize=(12, 8))\n",
        "\n",
        "plt.show()"
      ],
      "metadata": {
        "id": "onWEYpcJP-Ky",
        "colab": {
          "base_uri": "https://localhost:8080/",
          "height": 500
        },
        "outputId": "9f115c06-da4b-4bc3-e089-be672dbd956f"
      },
      "execution_count": 162,
      "outputs": [
        {
          "output_type": "display_data",
          "data": {
            "text/plain": [
              "<Figure size 864x576 with 9 Axes>"
            ],
            "image/png": "[encoded data removed]"
          },
          "metadata": {
            "needs_background": "light"
          }
        }
      ]
    },
    {
      "cell_type": "code",
      "source": [
        "titles[\"genres\"]"
      ],
      "metadata": {
        "id": "kwvZftllRm6s",
        "colab": {
          "base_uri": "https://localhost:8080/",
          "height": 0
        },
        "outputId": "c8fbea5b-ba84-4268-f582-aa142caefe29"
      },
      "execution_count": 163,
      "outputs": [
        {
          "output_type": "execute_result",
          "data": {
            "text/plain": [
              "0                                 ['documentation']\n",
              "1                                ['drama', 'crime']\n",
              "2       ['drama', 'action', 'thriller', 'european']\n",
              "3                   ['fantasy', 'action', 'comedy']\n",
              "4                                 ['war', 'action']\n",
              "                           ...                     \n",
              "5845                           ['romance', 'drama']\n",
              "5846                                      ['drama']\n",
              "5847                                     ['comedy']\n",
              "5848                                             []\n",
              "5849              ['family', 'animation', 'comedy']\n",
              "Name: genres, Length: 5850, dtype: object"
            ]
          },
          "metadata": {},
          "execution_count": 163
        }
      ]
    },
    {
      "cell_type": "markdown",
      "source": [
        "Here, the next lines will be use to change the column genre. The database has a column with all the genres of the movie. We want to create one column for each genre, and then put the value on 1 if the genre corresponds to the movie, 0 if it isn't the case."
      ],
      "metadata": {
        "id": "o63-i-n2to0U"
      }
    },
    {
      "cell_type": "code",
      "source": [
        "titles[\"genres\"] = titles[\"genres\"].replace([\"'\"], \" \")\n",
        "titles[\"genres\"] = titles[\"genres\"].replace([\"]\"], \" \")\n",
        "titles[\"genres\"] = titles[\"genres\"].replace([\"[\"], \" \")\n",
        "print(titles[\"genres\"])\n"
      ],
      "metadata": {
        "id": "Z_ZJhcXXS6LJ",
        "colab": {
          "base_uri": "https://localhost:8080/",
          "height": 0
        },
        "outputId": "e2736e09-8a95-47da-bbbd-579d386ffacf"
      },
      "execution_count": 164,
      "outputs": [
        {
          "output_type": "stream",
          "name": "stdout",
          "text": [
            "0                                 ['documentation']\n",
            "1                                ['drama', 'crime']\n",
            "2       ['drama', 'action', 'thriller', 'european']\n",
            "3                   ['fantasy', 'action', 'comedy']\n",
            "4                                 ['war', 'action']\n",
            "                           ...                     \n",
            "5845                           ['romance', 'drama']\n",
            "5846                                      ['drama']\n",
            "5847                                     ['comedy']\n",
            "5848                                             []\n",
            "5849              ['family', 'animation', 'comedy']\n",
            "Name: genres, Length: 5850, dtype: object\n"
          ]
        }
      ]
    },
    {
      "cell_type": "markdown",
      "source": [
        "Now that we modified the 'genres' column as we wanted, we can split it to get all the different unique genres that appear in the dataset.\\"
      ],
      "metadata": {
        "id": "ws_0XirHuDQ7"
      }
    },
    {
      "cell_type": "code",
      "source": [
        "titles['genres'] = titles['genres'].str.replace(\"'\",\"\")\n",
        "titles['genres'] = titles['genres'].str.replace(\"[\",\"\")\n",
        "titles['genres'] = titles['genres'].str.replace(\"]\",\"\")\n",
        "titles['genres'] = titles['genres'].str.replace(\"'\",\"\")\n",
        "\n",
        "print(titles[\"genres\"])"
      ],
      "metadata": {
        "id": "dsPHtd_iUi_m",
        "colab": {
          "base_uri": "https://localhost:8080/",
          "height": 0
        },
        "outputId": "fa67e2e3-9ca2-4492-c56b-e35d225c4e7a"
      },
      "execution_count": 165,
      "outputs": [
        {
          "output_type": "stream",
          "name": "stdout",
          "text": [
            "0                           documentation\n",
            "1                            drama, crime\n",
            "2       drama, action, thriller, european\n",
            "3                 fantasy, action, comedy\n",
            "4                             war, action\n",
            "                      ...                \n",
            "5845                       romance, drama\n",
            "5846                                drama\n",
            "5847                               comedy\n",
            "5848                                     \n",
            "5849            family, animation, comedy\n",
            "Name: genres, Length: 5850, dtype: object\n"
          ]
        },
        {
          "output_type": "stream",
          "name": "stderr",
          "text": [
            "/usr/local/lib/python3.7/dist-packages/ipykernel_launcher.py:2: FutureWarning: The default value of regex will change from True to False in a future version. In addition, single character regular expressions will *not* be treated as literal strings when regex=True.\n",
            "  \n",
            "/usr/local/lib/python3.7/dist-packages/ipykernel_launcher.py:3: FutureWarning: The default value of regex will change from True to False in a future version. In addition, single character regular expressions will *not* be treated as literal strings when regex=True.\n",
            "  This is separate from the ipykernel package so we can avoid doing imports until\n"
          ]
        }
      ]
    },
    {
      "cell_type": "code",
      "source": [
        "distinctTitles = titles['genres'].str.split(\",\", expand = True)\n",
        "distinctTitles=distinctTitles[0].unique()\n",
        "print(distinctTitles)\n",
        "distinctTitles = np.delete(distinctTitles, 17)\n",
        "print(distinctTitles)\n",
        "\n"
      ],
      "metadata": {
        "id": "TLrbffCmWpza",
        "colab": {
          "base_uri": "https://localhost:8080/",
          "height": 0
        },
        "outputId": "f6c86851-717a-48e7-de78-0b053907b29d"
      },
      "execution_count": 166,
      "outputs": [
        {
          "output_type": "stream",
          "name": "stdout",
          "text": [
            "['documentation' 'drama' 'fantasy' 'war' 'comedy' 'thriller' 'crime'\n",
            " 'romance' 'action' 'western' 'history' 'music' 'horror' 'scifi'\n",
            " 'animation' 'family' 'reality' '' 'sport']\n",
            "['documentation' 'drama' 'fantasy' 'war' 'comedy' 'thriller' 'crime'\n",
            " 'romance' 'action' 'western' 'history' 'music' 'horror' 'scifi'\n",
            " 'animation' 'family' 'reality' 'sport']\n"
          ]
        }
      ]
    },
    {
      "cell_type": "markdown",
      "source": [
        "Now we can add a column for each distinct genre"
      ],
      "metadata": {
        "id": "6B8GgJ9Dt8_E"
      }
    },
    {
      "cell_type": "code",
      "source": [
        "for i in distinctTitles:\n",
        "  titles.insert(5,i,0, allow_duplicates=False)\n",
        "\n",
        "print(titles)"
      ],
      "metadata": {
        "id": "eVdqkRPgYyVF",
        "colab": {
          "base_uri": "https://localhost:8080/",
          "height": 0
        },
        "outputId": "a1f0da76-64e0-4ade-95f7-c4978b4ebf3a"
      },
      "execution_count": 167,
      "outputs": [
        {
          "output_type": "stream",
          "name": "stdout",
          "text": [
            "             id  type  release_year age_certification  runtime  sport  \\\n",
            "0      ts300399     1          1945             TV-MA       51      0   \n",
            "1       tm84618     0          1976                 R      114      0   \n",
            "2      tm154986     0          1972                 R      109      0   \n",
            "3      tm127384     0          1975                PG       91      0   \n",
            "4      tm120801     0          1967               NaN      150      0   \n",
            "...         ...   ...           ...               ...      ...    ...   \n",
            "5845  tm1014599     0          2021               NaN      100      0   \n",
            "5846   tm898842     0          2021               NaN      134      0   \n",
            "5847  tm1059008     0          2021               NaN       90      0   \n",
            "5848  tm1035612     0          2021             PG-13       37      0   \n",
            "5849   ts271048     1          2021               NaN        7      0   \n",
            "\n",
            "      reality  family  animation  scifi  horror  music  history  western  \\\n",
            "0           0       0          0      0       0      0        0        0   \n",
            "1           0       0          0      0       0      0        0        0   \n",
            "2           0       0          0      0       0      0        0        0   \n",
            "3           0       0          0      0       0      0        0        0   \n",
            "4           0       0          0      0       0      0        0        0   \n",
            "...       ...     ...        ...    ...     ...    ...      ...      ...   \n",
            "5845        0       0          0      0       0      0        0        0   \n",
            "5846        0       0          0      0       0      0        0        0   \n",
            "5847        0       0          0      0       0      0        0        0   \n",
            "5848        0       0          0      0       0      0        0        0   \n",
            "5849        0       0          0      0       0      0        0        0   \n",
            "\n",
            "      action  romance  crime  thriller  comedy  war  fantasy  drama  \\\n",
            "0          0        0      0         0       0    0        0      0   \n",
            "1          0        0      0         0       0    0        0      0   \n",
            "2          0        0      0         0       0    0        0      0   \n",
            "3          0        0      0         0       0    0        0      0   \n",
            "4          0        0      0         0       0    0        0      0   \n",
            "...      ...      ...    ...       ...     ...  ...      ...    ...   \n",
            "5845       0        0      0         0       0    0        0      0   \n",
            "5846       0        0      0         0       0    0        0      0   \n",
            "5847       0        0      0         0       0    0        0      0   \n",
            "5848       0        0      0         0       0    0        0      0   \n",
            "5849       0        0      0         0       0    0        0      0   \n",
            "\n",
            "      documentation                             genres production_countries  \\\n",
            "0                 0                      documentation               ['US']   \n",
            "1                 0                       drama, crime               ['US']   \n",
            "2                 0  drama, action, thriller, european               ['US']   \n",
            "3                 0            fantasy, action, comedy               ['GB']   \n",
            "4                 0                        war, action         ['GB', 'US']   \n",
            "...             ...                                ...                  ...   \n",
            "5845              0                     romance, drama               ['NG']   \n",
            "5846              0                              drama                   []   \n",
            "5847              0                             comedy               ['CO']   \n",
            "5848              0                                                  ['US']   \n",
            "5849              0          family, animation, comedy                   []   \n",
            "\n",
            "      seasons     imdb_id  imdb_score  imdb_votes  tmdb_popularity  tmdb_score  \n",
            "0         1.0         NaN         NaN         NaN            0.600         NaN  \n",
            "1         NaN   tt0075314         8.2    808582.0           40.965       8.179  \n",
            "2         NaN   tt0068473         7.7    107673.0           10.010       7.300  \n",
            "3         NaN   tt0071853         8.2    534486.0           15.461       7.811  \n",
            "4         NaN   tt0061578         7.7     72662.0           20.398       7.600  \n",
            "...       ...         ...         ...         ...              ...         ...  \n",
            "5845      NaN  tt13857480         6.8        45.0            1.466         NaN  \n",
            "5846      NaN  tt11803618         7.7       348.0              NaN         NaN  \n",
            "5847      NaN  tt14585902         3.8        68.0           26.005       6.300  \n",
            "5848      NaN         NaN         NaN         NaN            1.296      10.000  \n",
            "5849      1.0  tt13711094         7.8        18.0            2.289      10.000  \n",
            "\n",
            "[5850 rows x 31 columns]\n"
          ]
        }
      ]
    },
    {
      "cell_type": "code",
      "source": [
        "print(titles.head())\n",
        "print(titles.columns)"
      ],
      "metadata": {
        "id": "C_mwwDTAVuOs",
        "colab": {
          "base_uri": "https://localhost:8080/",
          "height": 0
        },
        "outputId": "908fbcd7-a122-4918-ff8d-3b901596e584"
      },
      "execution_count": 168,
      "outputs": [
        {
          "output_type": "stream",
          "name": "stdout",
          "text": [
            "         id  type  release_year age_certification  runtime  sport  reality  \\\n",
            "0  ts300399     1          1945             TV-MA       51      0        0   \n",
            "1   tm84618     0          1976                 R      114      0        0   \n",
            "2  tm154986     0          1972                 R      109      0        0   \n",
            "3  tm127384     0          1975                PG       91      0        0   \n",
            "4  tm120801     0          1967               NaN      150      0        0   \n",
            "\n",
            "   family  animation  scifi  horror  music  history  western  action  romance  \\\n",
            "0       0          0      0       0      0        0        0       0        0   \n",
            "1       0          0      0       0      0        0        0       0        0   \n",
            "2       0          0      0       0      0        0        0       0        0   \n",
            "3       0          0      0       0      0        0        0       0        0   \n",
            "4       0          0      0       0      0        0        0       0        0   \n",
            "\n",
            "   crime  thriller  comedy  war  fantasy  drama  documentation  \\\n",
            "0      0         0       0    0        0      0              0   \n",
            "1      0         0       0    0        0      0              0   \n",
            "2      0         0       0    0        0      0              0   \n",
            "3      0         0       0    0        0      0              0   \n",
            "4      0         0       0    0        0      0              0   \n",
            "\n",
            "                              genres production_countries  seasons    imdb_id  \\\n",
            "0                      documentation               ['US']      1.0        NaN   \n",
            "1                       drama, crime               ['US']      NaN  tt0075314   \n",
            "2  drama, action, thriller, european               ['US']      NaN  tt0068473   \n",
            "3            fantasy, action, comedy               ['GB']      NaN  tt0071853   \n",
            "4                        war, action         ['GB', 'US']      NaN  tt0061578   \n",
            "\n",
            "   imdb_score  imdb_votes  tmdb_popularity  tmdb_score  \n",
            "0         NaN         NaN            0.600         NaN  \n",
            "1         8.2    808582.0           40.965       8.179  \n",
            "2         7.7    107673.0           10.010       7.300  \n",
            "3         8.2    534486.0           15.461       7.811  \n",
            "4         7.7     72662.0           20.398       7.600  \n",
            "Index(['id', 'type', 'release_year', 'age_certification', 'runtime', 'sport',\n",
            "       'reality', 'family', 'animation', 'scifi', 'horror', 'music', 'history',\n",
            "       'western', 'action', 'romance', 'crime', 'thriller', 'comedy', 'war',\n",
            "       'fantasy', 'drama', 'documentation', 'genres', 'production_countries',\n",
            "       'seasons', 'imdb_id', 'imdb_score', 'imdb_votes', 'tmdb_popularity',\n",
            "       'tmdb_score'],\n",
            "      dtype='object')\n"
          ]
        }
      ]
    },
    {
      "cell_type": "markdown",
      "source": [
        "Now that we added a column for each genre, we will the column with a 1 whenever this gender appeared in the 'genres' column for this movie."
      ],
      "metadata": {
        "id": "YUFVts4JuX2E"
      }
    },
    {
      "cell_type": "code",
      "source": [
        "index = 0\n",
        "for i in titles[\"genres\"]: \n",
        "  tab = i.split(\",\")\n",
        "  for j in tab:\n",
        "    j = j.strip()\n",
        "    titles.loc[index, j] = 1\n",
        "  index +=1\n"
      ],
      "metadata": {
        "id": "6L-X_vNtY9Ed"
      },
      "execution_count": 169,
      "outputs": []
    },
    {
      "cell_type": "markdown",
      "source": [
        "Here since the age certification are different labels, we do the same we did for the 'genres' column. We split it and create different columns."
      ],
      "metadata": {
        "id": "WUzIwHw5uZdM"
      }
    },
    {
      "cell_type": "code",
      "source": [
        "# splitting age certification in multiple columns, filled with 0 or 1\n",
        "unique_certification = titles[\"age_certification\"].unique()\n",
        "\n",
        "for i in unique_certification: \n",
        "  titles.insert(5, i, 0, allow_duplicates = False)\n",
        "\n",
        "index = 0\n",
        "for i in titles[\"age_certification\"]: \n",
        "  titles.loc[index, i] = 1\n",
        "  index += 1\n",
        "\n",
        "\n"
      ],
      "metadata": {
        "id": "z9KFKQuW-Y9n"
      },
      "execution_count": 170,
      "outputs": []
    },
    {
      "cell_type": "markdown",
      "source": [
        "Again, we want to split the production_countries column into many columns (one for each county) to make the rest of the task easier. We use the same process, and fill the column with a 1 when the movie was produced in this country, 0 when it wasn't."
      ],
      "metadata": {
        "id": "9H-9AdRcubd2"
      }
    },
    {
      "cell_type": "code",
      "source": [
        "# splitting production countries into multiple columns, filled with 0 or 1\n",
        "\n",
        "titles['production_countries'] = titles['production_countries'].str.replace(\"'\",\"\")\n",
        "titles['production_countries'] = titles['production_countries'].str.replace(\"[\",\"\")\n",
        "titles['production_countries'] = titles['production_countries'].str.replace(\"]\",\"\")\n",
        "titles['production_countries'] = titles['production_countries'].str.replace(\"'\",\"\")\n",
        "\n",
        "\n",
        "unique_production_country = titles[\"production_countries\"].str.split(\",\", expand = True)\n",
        "unique_production_country = unique_production_country[0].unique()\n",
        "index = 0\n",
        "for i in titles[\"production_countries\"]: \n",
        "  tab = i.split(\",\")\n",
        "  for j in tab: \n",
        "    j = j.strip()\n",
        "    titles.loc[index, j] = 1\n",
        "  index +=1\n",
        "\n",
        "\n",
        "# titles.drop([''], axis =1)\n",
        "\n",
        "\n"
      ],
      "metadata": {
        "colab": {
          "base_uri": "https://localhost:8080/",
          "height": 0
        },
        "id": "RZK1-Jt3OdOT",
        "outputId": "04060a24-1352-48be-8401-c4b6d59a2f91"
      },
      "execution_count": 171,
      "outputs": [
        {
          "output_type": "stream",
          "name": "stderr",
          "text": [
            "/usr/local/lib/python3.7/dist-packages/ipykernel_launcher.py:4: FutureWarning: The default value of regex will change from True to False in a future version. In addition, single character regular expressions will *not* be treated as literal strings when regex=True.\n",
            "  after removing the cwd from sys.path.\n",
            "/usr/local/lib/python3.7/dist-packages/ipykernel_launcher.py:5: FutureWarning: The default value of regex will change from True to False in a future version. In addition, single character regular expressions will *not* be treated as literal strings when regex=True.\n",
            "  \"\"\"\n",
            "/usr/local/lib/python3.7/dist-packages/pandas/core/indexing.py:1684: PerformanceWarning: DataFrame is highly fragmented.  This is usually the result of calling `frame.insert` many times, which has poor performance.  Consider joining all columns at once using pd.concat(axis=1) instead.  To get a de-fragmented frame, use `newframe = frame.copy()`\n",
            "  self.obj[key] = infer_fill_value(value)\n"
          ]
        }
      ]
    },
    {
      "cell_type": "markdown",
      "source": [
        "Now, to study the dataset we decided to divide it into two parts, movies and series. Indeed it is complicated to create models comparing movies and series when they have a completely different structure, don't last nearly as long, ...\n",
        "\n",
        "We then drop the useless columns from each data frame (like the number of seasons for movies)"
      ],
      "metadata": {
        "id": "oEK_5RKouhoQ"
      }
    },
    {
      "cell_type": "code",
      "source": [
        "# splitting the df into 2 distincts : films and series\n",
        "# series correspond to the rows in titles where seasons is non null\n",
        "series = titles[titles.seasons >= 1].reset_index()\n",
        "\n",
        "# films is the entire \"titles\" DF without the series DF\n",
        "films = pd.concat([titles, series]).drop_duplicates(keep = False).reset_index()\n",
        "\n",
        "# we leave seasons from films because it's not relevant\n",
        "films = films.drop(columns = {\"seasons\", \"type\"})\n",
        "\n",
        "# cleaning float values\n",
        "for i in unique_certification: \n",
        "  series[i] = series[i].astype(int)\n",
        "\n",
        "series[\"seasons\"] = series[\"seasons\"].astype(int)\n",
        "\n",
        "# removing useless rows from seasons\n",
        "\n",
        "series = series.drop(columns = {\"R\", \"PG\", \"PG-13\", \"G\", \"NC-17\", \"type\"})"
      ],
      "metadata": {
        "id": "SeLcD7WqEqjq"
      },
      "execution_count": 172,
      "outputs": []
    },
    {
      "cell_type": "markdown",
      "source": [],
      "metadata": {
        "id": "XuvcThqfM6CN"
      }
    },
    {
      "cell_type": "code",
      "source": [
        "pd.set_option('max_columns', None)\n",
        "pd.set_option('display.max_columns', None)\n",
        "\n",
        "col_names = []\n",
        "for i in range(len(films.columns)): \n",
        "  col_names.append(films.columns[i])\n",
        "\n"
      ],
      "metadata": {
        "id": "TBQ0IrQps5Ix"
      },
      "execution_count": 173,
      "outputs": []
    },
    {
      "cell_type": "markdown",
      "source": [
        "Now, we will try to find a correlation between different variables. We will first try to plot some graphe, just bellow will be the link between the length of the movie and the date."
      ],
      "metadata": {
        "id": "1wTiXqR_ukpv"
      }
    },
    {
      "cell_type": "code",
      "source": [
        "# trying to find correlation between release date and duration in films\n",
        "\n",
        "release_duration_df = films[[\"release_year\", \"runtime\"]]\n",
        "release_duration_df.sort_values(by =[\"release_year\"], inplace = True)\n",
        "\n",
        "average_duration_year = []\n",
        "unique_year = release_duration_df[\"release_year\"].unique()\n",
        "\n",
        "## getting the total amount of runtime/year\n",
        "runtime_year = release_duration_df.groupby([\"release_year\"]).runtime.sum().reset_index()\n",
        "\n",
        "# getting this amount in an array\n",
        "runtimes = []\n",
        "for i in runtime_year[\"runtime\"]: \n",
        "  runtimes.append(i)\n",
        "\n",
        "## getting the number of films/year\n",
        "film_year = release_duration_df[\"release_year\"].value_counts().reset_index()\n",
        "film_year.sort_values(by = [\"release_year\"], inplace = True)\n",
        "\n",
        "# getting this amount in an array\n",
        "\n",
        "nb_film_year_array = []\n",
        "for i in film_year[\"release_year\"]: \n",
        "  nb_film_year_array.append(i)\n",
        "\n",
        "count = 0\n",
        "for i in unique_year: \n",
        "  mean = runtimes[count] / nb_film_year_array[count]\n",
        "  average_duration_year.append(mean)\n",
        "  count += 1\n",
        "\n",
        "print(average_duration_year)\n",
        "\n",
        "fig = plt.figure(figsize = (10, 10))\n",
        "for i in range(len(nb_film_year_array)):\n",
        "  if(nb_film_year_array[i] >= 10): \n",
        "    plt.bar(unique_year[i], average_duration_year[i], color= \"red\", width = 0.4)\n",
        "  else: \n",
        "    plt.bar(unique_year[i], average_duration_year[i], color= \"blue\", width = 0.4)\n",
        "\n",
        "plt.ylabel(\"Length\")\n",
        "plt.xlabel(\"Date\")\n",
        "plt.show()\n",
        "\n",
        "# This plot looks to show us that most recent films has a lower runtime than older ones. \n",
        "# We have to take care of this because the more older is the film, the less we have data about it. \n",
        "# In blue, we have printed values where the number of films / year is less than 10. \n",
        "# We see that all the films before the 90's are in this case, making them quite irrelevant for the study. "
      ],
      "metadata": {
        "colab": {
          "base_uri": "https://localhost:8080/",
          "height": 732
        },
        "id": "mPC_0foawDT3",
        "outputId": "dd9977cc-6977-40d1-8bc1-bfae6b3bc5c1"
      },
      "execution_count": 174,
      "outputs": [
        {
          "output_type": "stream",
          "name": "stderr",
          "text": [
            "/usr/local/lib/python3.7/dist-packages/pandas/util/_decorators.py:311: SettingWithCopyWarning: \n",
            "A value is trying to be set on a copy of a slice from a DataFrame\n",
            "\n",
            "See the caveats in the documentation: https://pandas.pydata.org/pandas-docs/stable/user_guide/indexing.html#returning-a-view-versus-a-copy\n",
            "  return func(*args, **kwargs)\n"
          ]
        },
        {
          "output_type": "stream",
          "name": "stdout",
          "text": [
            "[102.0, 215.0, 120.0, 77.0, 142.0, 158.0, 158.0, 186.0, 117.0, 260.0, 189.0, 102.0, 292.0, 65.5, 81.0, 100.5, 186.5, 50.0, 47.0, 175.0, 89.5, 69.25, 167.5, 109.0, 135.4, 17.4, 66.85714285714286, 78.42857142857143, 112.42857142857143, 154.28571428571428, 104.375, 122.22222222222223, 20.0, 101.46666666666667, 116.6, 69.0, 38.8125, 114.1875, 121.38888888888889, 67.0, 41.88461538461539, 80.37037037037037, 66.54838709677419, 75.1, 98.35714285714286, 72.8, 83.51724137931035, 81.96551724137932, 82.24358974358974, 76.72151898734177, 74.75294117647059, 72.29464285714286, 75.1231884057971, 74.21176470588236, 72.3502538071066, 63.50320512820513, 64.38911290322581, 93.21955719557195, 92.7345013477089, 69.4165890027959, 64.31789282470481, 62.63918439716312, 29.330427201394944]\n"
          ]
        },
        {
          "output_type": "display_data",
          "data": {
            "text/plain": [
              "<Figure size 720x720 with 1 Axes>"
            ],
            "image/png": "[encoded data removed]"
          },
          "metadata": {
            "needs_background": "light"
          }
        }
      ]
    },
    {
      "cell_type": "code",
      "source": [
        "#number of movies by gender\n",
        "tab=[]\n",
        "for i in distinctTitles:\n",
        "  count=0\n",
        "  for j in range (0, 5849):\n",
        "    if(titles[i][j]==1):\n",
        "      count+=1\n",
        "  tab.append(count)\n",
        "fig= plt.figure(figsize = (16, 10))\n",
        "plt.ylabel(\"Number of movies\")\n",
        "plt.xlabel(\"Genre\")\n",
        "plt.bar(distinctTitles,tab)"
      ],
      "metadata": {
        "colab": {
          "base_uri": "https://localhost:8080/",
          "height": 627
        },
        "id": "AGqG0bXwm26i",
        "outputId": "32588121-63e0-44ea-b12d-c4afc23e5de4"
      },
      "execution_count": 175,
      "outputs": [
        {
          "output_type": "execute_result",
          "data": {
            "text/plain": [
              "<BarContainer object of 18 artists>"
            ]
          },
          "metadata": {},
          "execution_count": 175
        },
        {
          "output_type": "display_data",
          "data": {
            "text/plain": [
              "<Figure size 1152x720 with 1 Axes>"
            ],
            "image/png": "[encoded data removed]"
          },
          "metadata": {
            "needs_background": "light"
          }
        }
      ]
    },
    {
      "cell_type": "markdown",
      "source": [
        "Now we will try to print the tmdb score and popularity depending on the genre of the movie. We can see that the score doesn't seem to vary much depending on the genre. However, we can see that some genre of movies are more popular than others, as exepected. As an example, horror movies are much more popular than documentaries"
      ],
      "metadata": {
        "id": "BFySPGL7-mmU"
      }
    },
    {
      "cell_type": "code",
      "source": [
        "# Trying to find corrolation between genre and score for films for tmdb, and between genre and popularity\n",
        "genre_score_df = films[distinctTitles].astype(float)\n",
        "genre_score_df[\"tmdb_popularity\"] = films[\"tmdb_popularity\"].astype(float)\n",
        "genre_score_df[\"tmdb_score\"] = films[\"tmdb_score\"].astype(float)\n",
        "genre_score_df['tmdb_popularity'] = genre_score_df['tmdb_popularity'].fillna(0)\n",
        "genre_score_df['tmdb_score'] = genre_score_df['tmdb_score'].fillna(0)\n",
        "genre_score_df[\"runtime\"] = films[\"runtime\"].astype(float)\n",
        "\n",
        "tab2 = []\n",
        "fig = plt.figure(figsize = (20, 10))\n",
        "\n",
        "for col in distinctTitles: \n",
        "  score = 0\n",
        "  nb = 0\n",
        "  for i in genre_score_df.index: \n",
        "    if genre_score_df.loc[i, col] == 1: \n",
        "      score += genre_score_df.loc[i, \"tmdb_popularity\"]\n",
        "      nb += 1\n",
        "  mean_score = score/nb\n",
        "  tab2.append([col, mean_score]) # genre name, mean_score\n",
        "  plt.bar(col, mean_score, color = \"dodgerblue\", width = 0.5)\n",
        "\n",
        "plt.title(\"tmdb_popularity by genre\")\n",
        "plt.xlabel(\"Genre\")\n",
        "plt.ylabel(\"Popularity\")\n",
        "plt.show()\n",
        "\n",
        "tab2 = []\n",
        "fig = plt.figure(figsize = (20, 10))\n",
        "\n",
        "for col in distinctTitles: \n",
        "  score = 0\n",
        "  nb = 0\n",
        "  for i in genre_score_df.index: \n",
        "    if genre_score_df.loc[i, col] == 1: \n",
        "      score += genre_score_df.loc[i, \"tmdb_score\"]\n",
        "      nb += 1\n",
        "  mean_score = score/nb\n",
        "  tab2.append([col, mean_score]) # genre name, mean_score\n",
        "  plt.bar(col, mean_score, color = \"dodgerblue\", width = 0.5)\n",
        "\n",
        "plt.title(\"tmdb_score by genre\")\n",
        "plt.xlabel(\"Genre\")\n",
        "plt.ylabel(\"Score\")\n",
        "plt.show()"
      ],
      "metadata": {
        "id": "PdWHp_nUAlCr",
        "colab": {
          "base_uri": "https://localhost:8080/",
          "height": 1230
        },
        "outputId": "e793589d-ae8b-4e9a-fc98-17d94b3aacca"
      },
      "execution_count": 176,
      "outputs": [
        {
          "output_type": "display_data",
          "data": {
            "text/plain": [
              "<Figure size 1440x720 with 1 Axes>"
            ],
            "image/png": "[encoded data removed]"
          },
          "metadata": {
            "needs_background": "light"
          }
        },
        {
          "output_type": "display_data",
          "data": {
            "text/plain": [
              "<Figure size 1440x720 with 1 Axes>"
            ],
            "image/png": "[encoded data removed]"
          },
          "metadata": {
            "needs_background": "light"
          }
        }
      ]
    },
    {
      "cell_type": "markdown",
      "source": [
        "We have printed a barplot showing the mean tmdb_popularity for each kind of genre and another showing the mean tmdb_score for each kind of genre. It attributes to each genres the mean of score/popularity of each film where defined by the genre. If a film is defined by \"thriller\", \"action\" and \"scifi\", it will add to the mean of score/popularity of these genres a new score/popularity value. \n",
        "- We can see huge disparities between popularity and genre. Some genres, such has documentation, are low compared to fantasy or horror. Some of these values can be explained by the lack of data on some genres. \n",
        "- Between score and genre, we can see that all the genres has a mean near to 7. It looks that in this dataset, tmdb_scores are almost the same compared to genres. "
      ],
      "metadata": {
        "id": "QP6oQ5Xq2rOs"
      }
    },
    {
      "cell_type": "markdown",
      "source": [
        "Here when trying to find correlation between genre and runtime, we find some expected outputs such as a low run time for an animation movie."
      ],
      "metadata": {
        "id": "8tKI9gMX_g9t"
      }
    },
    {
      "cell_type": "code",
      "source": [
        "# showing correlation between genre and runtime (mean)\n",
        "\n",
        "tab3 = []\n",
        "fig = plt.figure(figsize = (20, 10))\n",
        "\n",
        "for col in distinctTitles: \n",
        "  score = 0\n",
        "  nb = 0\n",
        "  for i in genre_score_df.index: \n",
        "    if genre_score_df.loc[i, col] == 1: \n",
        "      score += genre_score_df.loc[i, \"runtime\"]\n",
        "      nb += 1\n",
        "  mean_score = score/nb\n",
        "  tab3.append([col, mean_score]) # genre name, mean_score\n",
        "  plt.bar(col, mean_score, color = \"dodgerblue\", width = 0.5)\n",
        "\n",
        "plt.title(\"Run time by genre\")\n",
        "plt.xlabel(\"Genre\")\n",
        "plt.ylabel(\"runtime (min)\")\n",
        "plt.show()\n",
        "\n",
        "# It shows us that some genres, such has animation have a short runtime \n",
        "# while thrillers, war and romance genres has bigger ones\n",
        "# It looks relevent compared of what we know about these genres. "
      ],
      "metadata": {
        "colab": {
          "base_uri": "https://localhost:8080/",
          "height": 622
        },
        "id": "uW8cveNJowJe",
        "outputId": "00172979-fc5f-4217-bd26-abb1152d4215"
      },
      "execution_count": 177,
      "outputs": [
        {
          "output_type": "display_data",
          "data": {
            "text/plain": [
              "<Figure size 1440x720 with 1 Axes>"
            ],
            "image/png": "[encoded data removed]"
          },
          "metadata": {
            "needs_background": "light"
          }
        }
      ]
    },
    {
      "cell_type": "markdown",
      "source": [
        "This piece of code allows to find different correlations between different columns in the dataset. This can give an general idea of the importance of the features, and how we can create links between them to predict the score or the popularity."
      ],
      "metadata": {
        "id": "esYs04554rAv"
      }
    },
    {
      "cell_type": "code",
      "source": [
        "corrtab = []\n",
        "for i in films: \n",
        "  if(np.issubdtype(films[i].dtypes, int) == True | np.issubdtype(films[i].dtypes, float)):\n",
        "    for j in films: \n",
        "      if(((np.issubdtype(films[j].dtypes, int) == True)| np.issubdtype(films[j].dtypes, float) == True ) & (i != j)):\n",
        "        corr = films[i].corr(films[j])\n",
        "        corrtab.append(corr)\n",
        "        if(corr > 0.10): \n",
        "          print(\"Correlation for \", i, \" and \", j, \" : \", corr)\n",
        "\n",
        "corrtab.sort(reverse = True)"
      ],
      "metadata": {
        "colab": {
          "base_uri": "https://localhost:8080/",
          "height": 0
        },
        "id": "bgQk6X4zc-RD",
        "outputId": "6f89f763-2a37-450c-fd3d-55363aa4952a"
      },
      "execution_count": 178,
      "outputs": [
        {
          "output_type": "stream",
          "name": "stdout",
          "text": [
            "Correlation for  level_0  and  release_year  :  0.5730555026938721\n",
            "Correlation for  level_0  and  runtime  :  0.12839498395250085\n",
            "Correlation for  level_0  and  nan  :  0.27607456881999554\n",
            "Correlation for  level_0  and  index  :  0.9987351970753361\n",
            "Correlation for  release_year  and  level_0  :  0.5730555026938721\n",
            "Correlation for  release_year  and  TV-MA  :  0.14938955031945753\n",
            "Correlation for  release_year  and  index  :  0.7329519825764242\n",
            "Correlation for  runtime  and  level_0  :  0.12839498395250082\n",
            "Correlation for  runtime  and  PG-13  :  0.25767129000247724\n",
            "Correlation for  runtime  and  nan  :  0.36033013989727825\n",
            "Correlation for  runtime  and  PG  :  0.16696237840750308\n",
            "Correlation for  runtime  and  R  :  0.27178376328105314\n",
            "Correlation for  runtime  and  romance  :  0.19414439264721423\n",
            "Correlation for  runtime  and  thriller  :  0.15748921959900902\n",
            "Correlation for  runtime  and  drama  :  0.22104538833944012\n",
            "Correlation for  runtime  and  imdb_votes  :  0.13059610240863118\n"
          ]
        },
        {
          "output_type": "stream",
          "name": "stderr",
          "text": [
            "/usr/local/lib/python3.7/dist-packages/numpy/lib/function_base.py:2683: RuntimeWarning: Degrees of freedom <= 0 for slice\n",
            "  c = cov(x, y, rowvar, dtype=dtype)\n",
            "/usr/local/lib/python3.7/dist-packages/numpy/lib/function_base.py:2542: RuntimeWarning: divide by zero encountered in true_divide\n",
            "  c *= np.true_divide(1, fact)\n"
          ]
        },
        {
          "output_type": "stream",
          "name": "stdout",
          "text": [
            "Correlation for  G  and  family  :  0.10719038679968611\n",
            "Correlation for  G  and  animation  :  0.10303537027096472\n",
            "Correlation for  TV-Y7  and  family  :  0.3206301584219981\n",
            "Correlation for  TV-Y7  and  animation  :  0.35385947658569955\n",
            "Correlation for  TV-Y7  and  scifi  :  0.20316085834012518\n",
            "Correlation for  TV-Y7  and  action  :  0.2015898567195339\n",
            "Correlation for  TV-Y7  and  comedy  :  0.131439372783848\n",
            "Correlation for  TV-Y7  and  fantasy  :  0.19418639247026748\n",
            "Correlation for  TV-Y7  and  tmdb_score  :  0.10337473672970744\n",
            "Correlation for  TV-G  and  family  :  0.22130333435064223\n",
            "Correlation for  TV-Y  and  family  :  0.3047422212595334\n",
            "Correlation for  TV-Y  and  animation  :  0.3734110745389884\n",
            "Correlation for  TV-Y  and  tmdb_score  :  0.11739973625448376\n",
            "Correlation for  TV-PG  and  reality  :  0.23958701066677035\n",
            "Correlation for  PG-13  and  runtime  :  0.25767129000247724\n",
            "Correlation for  PG-13  and  imdb_votes  :  0.14837035575212007\n",
            "Correlation for  TV-14  and  scifi  :  0.120664696679186\n",
            "Correlation for  TV-14  and  imdb_score  :  0.18569096360686346\n",
            "Correlation for  TV-14  and  tmdb_score  :  0.18225062233158978\n",
            "Correlation for  nan  and  level_0  :  0.2760745688199955\n",
            "Correlation for  nan  and  runtime  :  0.36033013989727825\n",
            "Correlation for  nan  and  nan  :  1.0\n",
            "Correlation for  PG  and  runtime  :  0.16696237840750308\n",
            "Correlation for  PG  and  family  :  0.17071001626332133\n",
            "Correlation for  R  and  runtime  :  0.27178376328105314\n",
            "Correlation for  R  and  crime  :  0.10217770377147542\n",
            "Correlation for  R  and  thriller  :  0.1807592673361813\n",
            "Correlation for  R  and  imdb_votes  :  0.1774129835563951\n",
            "Correlation for  TV-MA  and  release_year  :  0.14938955031945755\n",
            "Correlation for  TV-MA  and  crime  :  0.2169844533960126\n",
            "Correlation for  TV-MA  and  thriller  :  0.13033472374335148\n",
            "Correlation for  TV-MA  and  drama  :  0.1275407308697011\n",
            "Correlation for  TV-MA  and  imdb_score  :  0.18140607889114824\n",
            "Correlation for  TV-MA  and  tmdb_score  :  0.15942643861012262\n",
            "Correlation for  TV-MA  and  index  :  0.14879054497091182\n",
            "Correlation for  reality  and  TV-PG  :  0.23958701066677032\n",
            "Correlation for  reality  and  index  :  0.11551707847945401\n",
            "Correlation for  family  and  G  :  0.10719038679968612\n",
            "Correlation for  family  and  TV-Y7  :  0.3206301584219981\n",
            "Correlation for  family  and  TV-G  :  0.22130333435064226\n",
            "Correlation for  family  and  TV-Y  :  0.30474222125953343\n",
            "Correlation for  family  and  PG  :  0.17071001626332133\n",
            "Correlation for  family  and  animation  :  0.47171217858854053\n",
            "Correlation for  family  and  scifi  :  0.12307522635647009\n",
            "Correlation for  family  and  action  :  0.11844413897088028\n",
            "Correlation for  family  and  comedy  :  0.2159661282019831\n",
            "Correlation for  family  and  fantasy  :  0.2851706309199075\n",
            "Correlation for  family  and  tmdb_score  :  0.11677761797901406\n",
            "Correlation for  animation  and  G  :  0.10303537027096472\n",
            "Correlation for  animation  and  TV-Y7  :  0.35385947658569955\n",
            "Correlation for  animation  and  TV-Y  :  0.3734110745389885\n",
            "Correlation for  animation  and  family  :  0.4717121785885406\n",
            "Correlation for  animation  and  scifi  :  0.2989121955269233\n",
            "Correlation for  animation  and  action  :  0.30388170147818333\n",
            "Correlation for  animation  and  comedy  :  0.14903941622789263\n",
            "Correlation for  animation  and  fantasy  :  0.3909462855421851\n",
            "Correlation for  animation  and  tmdb_score  :  0.15679469141974287\n",
            "Correlation for  scifi  and  TV-Y7  :  0.2031608583401252\n",
            "Correlation for  scifi  and  TV-14  :  0.120664696679186\n",
            "Correlation for  scifi  and  family  :  0.12307522635647009\n",
            "Correlation for  scifi  and  animation  :  0.2989121955269232\n",
            "Correlation for  scifi  and  horror  :  0.2101908099257621\n",
            "Correlation for  scifi  and  action  :  0.35681051036932215\n",
            "Correlation for  scifi  and  thriller  :  0.1731890493020356\n",
            "Correlation for  scifi  and  fantasy  :  0.4329931172045276\n",
            "Correlation for  scifi  and  tmdb_popularity  :  0.13104897189009793\n",
            "Correlation for  scifi  and  tmdb_score  :  0.10784211175204085\n",
            "Correlation for  horror  and  scifi  :  0.2101908099257621\n",
            "Correlation for  horror  and  thriller  :  0.32033494467640666\n",
            "Correlation for  horror  and  fantasy  :  0.19655127171411355\n",
            "Correlation for  horror  and  tmdb_popularity  :  0.12600677096959595\n",
            "Correlation for  history  and  war  :  0.27670889499479223\n",
            "Correlation for  history  and  documentation  :  0.14041955946890516\n",
            "Correlation for  history  and  imdb_score  :  0.11798579862189999\n",
            "Correlation for  action  and  TV-Y7  :  0.20158985671953386\n",
            "Correlation for  action  and  family  :  0.11844413897088028\n",
            "Correlation for  action  and  animation  :  0.3038817014781834\n",
            "Correlation for  action  and  scifi  :  0.3568105103693221\n",
            "Correlation for  action  and  crime  :  0.15559328542076722\n",
            "Correlation for  action  and  thriller  :  0.23621265007674344\n",
            "Correlation for  action  and  fantasy  :  0.2914653865904727\n",
            "Correlation for  action  and  tmdb_popularity  :  0.10846650516950122\n",
            "Correlation for  romance  and  runtime  :  0.19414439264721425\n",
            "Correlation for  romance  and  comedy  :  0.15316548796554622\n",
            "Correlation for  romance  and  drama  :  0.23065510131296016\n",
            "Correlation for  crime  and  R  :  0.10217770377147542\n",
            "Correlation for  crime  and  TV-MA  :  0.21698445339601263\n",
            "Correlation for  crime  and  action  :  0.15559328542076722\n",
            "Correlation for  crime  and  thriller  :  0.3816434607931516\n",
            "Correlation for  crime  and  drama  :  0.1698471453503004\n",
            "Correlation for  thriller  and  runtime  :  0.157489219599009\n",
            "Correlation for  thriller  and  R  :  0.18075926733618128\n",
            "Correlation for  thriller  and  TV-MA  :  0.13033472374335148\n",
            "Correlation for  thriller  and  scifi  :  0.1731890493020356\n",
            "Correlation for  thriller  and  horror  :  0.32033494467640666\n",
            "Correlation for  thriller  and  action  :  0.23621265007674347\n",
            "Correlation for  thriller  and  crime  :  0.3816434607931516\n",
            "Correlation for  thriller  and  drama  :  0.26762093052300134\n",
            "Correlation for  thriller  and  imdb_votes  :  0.14872943710726058\n",
            "Correlation for  thriller  and  tmdb_popularity  :  0.1152986319119266\n",
            "Correlation for  comedy  and  TV-Y7  :  0.131439372783848\n",
            "Correlation for  comedy  and  family  :  0.21596612820198308\n",
            "Correlation for  comedy  and  animation  :  0.14903941622789263\n",
            "Correlation for  comedy  and  romance  :  0.15316548796554622\n",
            "Correlation for  war  and  history  :  0.27670889499479223\n",
            "Correlation for  fantasy  and  TV-Y7  :  0.19418639247026748\n",
            "Correlation for  fantasy  and  family  :  0.2851706309199075\n",
            "Correlation for  fantasy  and  animation  :  0.390946285542185\n",
            "Correlation for  fantasy  and  scifi  :  0.4329931172045276\n",
            "Correlation for  fantasy  and  horror  :  0.19655127171411357\n",
            "Correlation for  fantasy  and  action  :  0.2914653865904727\n",
            "Correlation for  fantasy  and  tmdb_popularity  :  0.11639623979699641\n",
            "Correlation for  fantasy  and  tmdb_score  :  0.10797893679180419\n",
            "Correlation for  drama  and  runtime  :  0.22104538833944012\n",
            "Correlation for  drama  and  TV-MA  :  0.1275407308697011\n",
            "Correlation for  drama  and  romance  :  0.2306551013129602\n",
            "Correlation for  drama  and  crime  :  0.1698471453503004\n",
            "Correlation for  drama  and  thriller  :  0.26762093052300134\n",
            "Correlation for  drama  and  imdb_score  :  0.12675155418820036\n",
            "Correlation for  drama  and  imdb_votes  :  0.10198149964272846\n",
            "Correlation for  documentation  and  history  :  0.14041955946890516\n",
            "Correlation for  documentation  and  imdb_score  :  0.15684073198479778\n",
            "Correlation for  documentation  and  index  :  0.11050341026566436\n"
          ]
        }
      ]
    },
    {
      "cell_type": "markdown",
      "source": [
        "Next, we will try to print some scatter plot of two columns to see if we can find any noticeable correlation. We will also print the actual correlation value between those columns."
      ],
      "metadata": {
        "id": "Y33PD5Hx9r86"
      }
    },
    {
      "cell_type": "code",
      "source": [
        "#corrolation between number of seasons and release year ?\n",
        "\n",
        "#print(series.head())\n",
        "fig = plt.figure(figsize = (15, 15))\n",
        "plt.scatter(series[\"release_year\"], series[\"seasons\"])\n",
        "plt.title(\"Corrolation between number of seasons and release year\")\n",
        "plt.xlabel(\"Release year\")\n",
        "plt.ylabel(\"Number of seasons\")\n",
        "plt.show()\n",
        "corr = series[\"seasons\"].corr(series[\"release_year\"])\n",
        "print(\"Correlation is: \", round(corr, 2))"
      ],
      "metadata": {
        "colab": {
          "base_uri": "https://localhost:8080/",
          "height": 915
        },
        "id": "zfJWMmiI0P4D",
        "outputId": "2595b1f1-5240-4f20-99b0-0a40889dfecf"
      },
      "execution_count": 179,
      "outputs": [
        {
          "output_type": "display_data",
          "data": {
            "text/plain": [
              "<Figure size 1080x1080 with 1 Axes>"
            ],
            "image/png": "[encoded data removed]"
          },
          "metadata": {
            "needs_background": "light"
          }
        },
        {
          "output_type": "stream",
          "name": "stdout",
          "text": [
            "Correlation is:  -0.5\n"
          ]
        }
      ]
    },
    {
      "cell_type": "code",
      "source": [
        "#corrolation between release year and score?\n",
        "\n",
        "#tmdb_score\n",
        "fig = plt.figure(figsize = (15, 15))\n",
        "plt.scatter(series[\"release_year\"],series[\"tmdb_score\"])\n",
        "plt.title(\"Corrolation between release year and tmdb_score\")\n",
        "plt.xlabel(\"release_year\")\n",
        "plt.ylabel(\"tmdb_score\")\n",
        "plt.show()\n",
        "corr = series[\"tmdb_score\"].corr(series[\"release_year\"])\n",
        "print(\"Correlation is: \", round(corr, 2))\n",
        "\n",
        "#tmdb_popularity\n",
        "fig = plt.figure(figsize = (15, 15))\n",
        "plt.scatter(series[\"release_year\"],series[\"tmdb_popularity\"])\n",
        "plt.title(\"Corrolation between release year and tmdb_score\")\n",
        "plt.xlabel(\"release_year\")\n",
        "plt.ylabel(\"tmdb_popularity\")\n",
        "plt.show()\n",
        "corr = series[\"tmdb_popularity\"].corr(series[\"release_year\"])\n",
        "print(\"Correlation is: \", round(corr, 2))\n",
        "print(series[\"tmdb_popularity\"].corr(series[\"release_year\"]))"
      ],
      "metadata": {
        "colab": {
          "base_uri": "https://localhost:8080/",
          "height": 1830
        },
        "id": "JMA2ea801yHT",
        "outputId": "533ab6ae-b8a1-4868-91b9-b02fffe0211f"
      },
      "execution_count": 180,
      "outputs": [
        {
          "output_type": "display_data",
          "data": {
            "text/plain": [
              "<Figure size 1080x1080 with 1 Axes>"
            ],
            "image/png": "[encoded data removed]"
          },
          "metadata": {
            "needs_background": "light"
          }
        },
        {
          "output_type": "stream",
          "name": "stdout",
          "text": [
            "Correlation is:  -0.04\n"
          ]
        },
        {
          "output_type": "display_data",
          "data": {
            "text/plain": [
              "<Figure size 1080x1080 with 1 Axes>"
            ],
            "image/png": "[encoded data removed]"
          },
          "metadata": {
            "needs_background": "light"
          }
        },
        {
          "output_type": "stream",
          "name": "stdout",
          "text": [
            "Correlation is:  -0.04\n",
            "-0.04253916468901572\n"
          ]
        }
      ]
    },
    {
      "cell_type": "code",
      "source": [
        "#corrolation between number of seasons and score ?\n",
        "\n",
        "#print(series.head())\n",
        "fig = plt.figure(figsize = (15, 15))\n",
        "plt.scatter(series[\"tmdb_score\"],series[\"seasons\"])\n",
        "plt.title(\"Corrolation between number of seasons and tmdb_score\")\n",
        "plt.xlabel(\"tmdb_score\")\n",
        "plt.ylabel(\"seasons\")\n",
        "plt.show()\n",
        "corr = series[\"tmdb_score\"].corr(series[\"seasons\"])\n",
        "print(\"Correlation tmdb_score/season is: \", round(corr, 2))\n",
        "print(series[\"tmdb_score\"].corr(series[\"seasons\"]))\n",
        "\n",
        "#tmdb_popularity\n",
        "\n",
        "#tmdbpopularity\n",
        "fig = plt.figure(figsize = (15, 15))\n",
        "plt.scatter(series[\"tmdb_popularity\"],series[\"seasons\"])\n",
        "plt.title(\"Corrolation between number of seasons and tmdb_popularity\")\n",
        "plt.xlabel(\"tmdb_popularity\")\n",
        "plt.ylabel(\"seasons\")\n",
        "plt.show()\n",
        "corr = series[\"tmdb_popularity\"].corr(series[\"seasons\"])\n",
        "print(\"Correlation tmdb_popularity/season is: \", round(corr, 2))\n",
        "print(series[\"tmdb_popularity\"].corr(series[\"seasons\"]))"
      ],
      "metadata": {
        "colab": {
          "base_uri": "https://localhost:8080/",
          "height": 1847
        },
        "id": "LZkK3sD12YU-",
        "outputId": "adeeb05c-bf6e-4fa0-b410-2cf4f42ee225"
      },
      "execution_count": 181,
      "outputs": [
        {
          "output_type": "display_data",
          "data": {
            "text/plain": [
              "<Figure size 1080x1080 with 1 Axes>"
            ],
            "image/png": "[encoded data removed]"
          },
          "metadata": {
            "needs_background": "light"
          }
        },
        {
          "output_type": "stream",
          "name": "stdout",
          "text": [
            "Correlation tmdb_score/season is:  0.04\n",
            "0.044022846873139614\n"
          ]
        },
        {
          "output_type": "display_data",
          "data": {
            "text/plain": [
              "<Figure size 1080x1080 with 1 Axes>"
            ],
            "image/png": "[encoded data removed]"
          },
          "metadata": {
            "needs_background": "light"
          }
        },
        {
          "output_type": "stream",
          "name": "stdout",
          "text": [
            "Correlation tmdb_popularity/season is:  0.17\n",
            "0.16805106651455995\n"
          ]
        }
      ]
    },
    {
      "cell_type": "markdown",
      "source": [
        "Below, we are trying to display the number of films/country. We will se that the US are mainly dominating, with six times more films than the second : India. "
      ],
      "metadata": {
        "id": "AuItsxJSN978"
      }
    },
    {
      "cell_type": "code",
      "source": [
        "# Showing the number films/country of production\n",
        "fig = plt.figure(figsize = (20, 10))\n",
        "\n",
        "tab = []\n",
        "prod_country = []\n",
        "\n",
        "for i in unique_production_country: \n",
        "  if i != '':\n",
        "    value = films[i].sum()\n",
        "    tab.append(value)\n",
        "    prod_country.append(i)\n",
        "\n",
        "my_tab = [[]]\n",
        "\n",
        "for i in range(len(tab)): \n",
        "  my_tab.append([tab[i], prod_country[i]])\n",
        "\n",
        "my_tab.sort(reverse = True)\n",
        "\n",
        "for i in range(len(unique_production_country) - 1):\n",
        "  if tab[i] > 30:\n",
        "    plt.bar(my_tab[i][1], my_tab[i][0], color = \"dodgerblue\", width = 0.5)\n",
        "\n",
        "plt.xlabel(\"Country\")\n",
        "plt.ylabel(\"Number of films\")\n",
        "\n",
        "plt.show()\n",
        "\n",
        "\n",
        "\n"
      ],
      "metadata": {
        "id": "qbnsKDnQ105y",
        "outputId": "914d4d76-55b0-4186-911d-3db10e355361",
        "colab": {
          "base_uri": "https://localhost:8080/",
          "height": 599
        }
      },
      "execution_count": 182,
      "outputs": [
        {
          "output_type": "display_data",
          "data": {
            "text/plain": [
              "<Figure size 1440x720 with 1 Axes>"
            ],
            "image/png": "[encoded data removed]"
          },
          "metadata": {
            "needs_background": "light"
          }
        }
      ]
    },
    {
      "cell_type": "code",
      "source": [
        "# trying to show the popularity of filmed produced by a country\n",
        "fig = plt.figure(figsize = (20, 10))\n",
        "films[\"tmdb_popularity\"] = films[\"tmdb_popularity\"].astype(float)\n",
        "for col in prod_country: \n",
        "  score = 0\n",
        "  nb = 0\n",
        "  for i in films.index: \n",
        "    if films.loc[i, col] == 1: \n",
        "      score += films.loc[i, \"tmdb_popularity\"]\n",
        "      nb+=1\n",
        "  mean = score/nb\n",
        "  if (mean >= 20) & (nb > 20):\n",
        "    plt.bar(col, mean, color = \"dodgerblue\", width = 0.5)\n",
        "  if(col.strip() == \"US\"):\n",
        "    plt.bar(col, mean, color = \"red\", width = 0.5)\n",
        "\n",
        "plt.xlabel(\"Country\")\n",
        "plt.ylabel(\"Average popularity\")\n",
        "\n",
        "plt.show()\n",
        "\n"
      ],
      "metadata": {
        "colab": {
          "base_uri": "https://localhost:8080/",
          "height": 605
        },
        "id": "qXJqdxOrOLXz",
        "outputId": "af27f1f1-6ca0-440a-f803-b45055a23ebc"
      },
      "execution_count": 183,
      "outputs": [
        {
          "output_type": "display_data",
          "data": {
            "text/plain": [
              "<Figure size 1440x720 with 1 Axes>"
            ],
            "image/png": "[encoded data removed]"
          },
          "metadata": {
            "needs_background": "light"
          }
        }
      ]
    },
    {
      "cell_type": "markdown",
      "source": [
        "We have printed the mean popularity of films produced by a country. We can see that the US are missing even if they were much important in the previous graph. It looks like our dataset is missing values concerning US popularity."
      ],
      "metadata": {
        "id": "aNJoINjIR8_S"
      }
    },
    {
      "cell_type": "markdown",
      "source": [
        "In the end, we add some trouble finding correlation between different columns. We created a loop that allows to chose the level of correlation we want to get, and when we set the level pretty high we can see that the correlated columns are the age restriction and the type of movie. The correlation found are the one expected (a low limit of age like 7 years old if often correlated with family genre). However, we had trouble finding high correlation between columns and the final score or popularity. The most relevant correlation with the popularity is most certainly the genre. Other than that there are other links like the number of episode for a serie, ... but they are not very important at all. The database is also lacking data for some categories, as an exemple for older movies. In general to build a model able to evaluate the popularity of a movie or a serie, we will need to keep the genre, the date, the length of the movie."
      ],
      "metadata": {
        "id": "XhfMOf_R4vQ4"
      }
    },
    {
      "cell_type": "markdown",
      "source": [],
      "metadata": {
        "id": "TBepIH1kEQSH"
      }
    }
  ]
}