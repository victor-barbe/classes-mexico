{
 "cells": [
  {
   "cell_type": "markdown",
   "metadata": {},
   "source": [
    "# Actividad 6\n",
    "BARBE Victor 403715"
   ]
  },
  {
   "cell_type": "code",
   "execution_count": 1,
   "metadata": {},
   "outputs": [
    {
     "name": "stderr",
     "output_type": "stream",
     "text": [
      "\n",
      "*******************************************************************\n",
      "*                    ProBT Library   V3.1.99-20160616             *\n",
      "*                                                                 *\n",
      "*               Copyright 2001-2008: CNRS & Probayes              *\n",
      "*               Copyright 2009-2020: Probayes                     *\n",
      "*                      All rights reserved                        *\n",
      "*******************************************************************\n",
      "\n"
     ]
    }
   ],
   "source": [
    "#import libraries\n",
    "import sys\n",
    "sys.path.append('../lib')\n",
    "from probt import *\n",
    "from auxFunctions import *"
   ]
  },
  {
   "cell_type": "markdown",
   "metadata": {},
   "source": [
    "Nous declarons les variables et on cree des tableau de probabilite avec l enonce"
   ]
  },
  {
   "cell_type": "code",
   "execution_count": 2,
   "metadata": {},
   "outputs": [],
   "source": [
    "RI = plVariable(\"RI\",PL_BINARY_TYPE)\n",
    "RP = plVariable(\"RP\",PL_BINARY_TYPE)\n",
    "LI = plVariable(\"LI\",PL_BINARY_TYPE)\n",
    "E = plVariable(\"E\",PL_BINARY_TYPE)\n",
    "JA = plVariable(\"JA\",PL_BINARY_TYPE)\n",
    "AA = plVariable(\"AA\",PL_BINARY_TYPE)\n",
    "BA = plVariable(\"BA\",PL_BINARY_TYPE)\n",
    "MP = plVariable(\"MP\",PL_BINARY_TYPE)\n",
    "AP = plVariable(\"AP\",PL_BINARY_TYPE)\n",
    "BP = plVariable(\"BP\",PL_BINARY_TYPE)\n",
    "MA = plVariable(\"MA\",PL_BINARY_TYPE)\n",
    "WE = plVariable(\"WE\",PL_BINARY_TYPE)\n",
    "VP = plVariable(\"VP\",PL_BINARY_TYPE)\n",
    "JP = plVariable(\"JP\",PL_BINARY_TYPE)\n",
    "\n",
    "tableau_RI = [0.78,0.22]\n",
    "tableau_E = [0.35,0.65]\n",
    "tableau_RP = [0.78,0.22]\n",
    "tableau_WE = [0.72,0.28]\n",
    "tableau_LI = [0.70,0.30]\n",
    "tableau_JA = [0.60,0.40, 0.10,0.90]\n",
    "tableau_BA = [0.70,0.30, 0.05,0.95] \n",
    "tableau_MP = [0.97,0.03, 0.03,0.97] \n",
    "tableau_AA = [0.20,0.80,  0.60,0.40] \n",
    "tableau_AP = [0.50,0.50, 0.20,0.80] \n",
    "tableau_BP = [0.80,0.20, 1.00,0.00, 0.05,0.95,1.00,0.00] \n",
    "tableau_MA = [0.50,0.50,  0.15,0.85, 0.05,0.95, 0.95,0.05] \n",
    "tableau_VP = [0.30,0.70, 0.60,0.40, 0.10,0.90, 0.00,1.00] \n",
    "tableau_JP = [0.60,0.40, 1.00,0.00, 0.10,0.90, 0.30,0.70]\n",
    "\n",
    "#on defini les probabilite simples puis les probabilite conditionelles avec une et deux conditions\n",
    "P_RI = plProbTable(RI, tableau_RI)\n",
    "P_RP = plProbTable(RP, tableau_RI)\n",
    "P_WE = plProbTable(WE, tableau_RI)\n",
    "P_LI = plProbTable(LI, tableau_RI)\n",
    "P_E = plProbTable(E, tableau_RI)\n",
    "\n",
    "P_JA = plCndDistribution(JA, RI, tableau_JA)\n",
    "P_AA = plCndDistribution(AA, WE, tableau_AA)\n",
    "P_BA = plCndDistribution(BA, LI, tableau_BA)\n",
    "P_MP = plCndDistribution(MP, MA, tableau_MP)\n",
    "P_AP = plCndDistribution(AP, AA, tableau_AP)\n",
    "\n",
    "P_BP = plCndDistribution(BP, E^BA, tableau_BP)\n",
    "P_MA = plCndDistribution(MA, JA^AA, tableau_MA)\n",
    "P_VP = plCndDistribution(VP, AA^BA, tableau_VP)\n",
    "P_JP = plCndDistribution(JP, JA^RP, tableau_JP)\n",
    "\n",
    "#Oñ defini a distribution jointe des variables avec les probabilite definies\n",
    "join_distrib= plJointDistribution(RI^RP^WE^LI^E^JA^AA^BA^MP^AP^BP^MA^VP^JP,P_RI*P_RP*P_WE*P_LI*P_E*P_JA*P_AA*P_BA*P_MP*P_AP*P_BP*P_MA*P_VP*P_JP)"
   ]
  },
  {
   "cell_type": "markdown",
   "metadata": {},
   "source": [
    "maintenant nous allons calculer les proba demandées dans le sujet\n",
    "1 - P(RI = 1 | MP = 0 , WE = 0)"
   ]
  },
  {
   "cell_type": "code",
   "execution_count": 3,
   "metadata": {},
   "outputs": [
    {
     "name": "stdout",
     "output_type": "stream",
     "text": [
      "P(RI) = \n",
      "RI\t\tProbability\n",
      "0\t\t0.691366109180621\n",
      "1\t\t0.308633890819379\n",
      "\n"
     ]
    }
   ],
   "source": [
    "CndRI = plCndDistribution()\n",
    "join_distrib.ask(CndRI, RI, MP^WE)\n",
    "\n",
    "preuve = plValues(RI^MP^WE)\n",
    "preuve[MP] = False\n",
    "preuve[WE] = False\n",
    "\n",
    "P_RI_distribuee = plDistribution()\n",
    "CndRI.instantiate(P_RI_distribuee,preuve)\n",
    "P_RI = plDistribution()\n",
    "P_RI_distribuee.compile(P_RI)\n",
    "print(P_RI) "
   ]
  },
  {
   "cell_type": "markdown",
   "metadata": {},
   "source": [
    "2 - P(AP = 1 , BP = 1 , JP = 1 , MP = 1 , VP = 1 | RP = 0 , WE = 0 , LI = O , E = 0)"
   ]
  },
  {
   "cell_type": "code",
   "execution_count": 4,
   "metadata": {},
   "outputs": [
    {
     "name": "stdout",
     "output_type": "stream",
     "text": [
      "P(JP AP MP VP BP) = \n",
      "JP\tAP\tMP\tVP\tBP\t\tProbability\n",
      "0\t0\t0\t0\t0\t\t0.00612448869246892\n",
      "0\t0\t0\t0\t1\t\t0.000851950676645275\n",
      "0\t0\t0\t1\t0\t\t0.0202501804363048\n",
      "0\t0\t0\t1\t1\t\t0.00344160011175975\n",
      "0\t0\t1\t0\t0\t\t0.00897271124884434\n",
      "0\t0\t1\t0\t1\t\t0.00136984931471801\n",
      "0\t0\t1\t1\t0\t\t0.041794619322511\n",
      "0\t0\t1\t1\t1\t\t0.00689459984806076\n",
      "0\t1\t0\t0\t0\t\t0.00874117605172632\n",
      "0\t1\t0\t0\t1\t\t0.00150612251645962\n",
      "0\t1\t0\t1\t0\t\t0.0578183346656431\n",
      "0\t1\t0\t1\t1\t\t0.00932914667008888\n",
      "0\t1\t1\t0\t0\t\t0.0156296238535381\n",
      "0\t1\t1\t0\t1\t\t0.00303407746589144\n",
      "0\t1\t1\t1\t0\t\t0.137368864575614\n",
      "0\t1\t1\t1\t1\t\t0.0218726532086216\n",
      "1\t0\t0\t0\t0\t\t0.00873660648612039\n",
      "1\t0\t0\t0\t1\t\t0.00158410812310764\n",
      "1\t0\t0\t1\t0\t\t0.0656378965650746\n",
      "1\t0\t0\t1\t1\t\t0.0105233691177846\n",
      "1\t0\t1\t0\t0\t\t0.0199261935725663\n",
      "1\t0\t1\t0\t1\t\t0.00263409188552907\n",
      "1\t0\t1\t1\t0\t\t0.0521573036761096\n",
      "1\t0\t1\t1\t1\t\t0.00910043092239492\n",
      "1\t1\t0\t0\t0\t\t0.0210254167810805\n",
      "1\t1\t0\t0\t1\t\t0.00465631069684767\n",
      "1\t1\t0\t1\t0\t\t0.242070101514145\n",
      "1\t1\t0\t1\t1\t\t0.0381731922814449\n",
      "1\t1\t1\t0\t0\t\t0.0252437833136551\n",
      "1\t1\t1\t0\t1\t\t0.00396348932080126\n",
      "1\t1\t1\t1\t0\t\t0.128502699244598\n",
      "1\t1\t1\t1\t1\t\t0.0210650078398446\n",
      "\n"
     ]
    }
   ],
   "source": [
    "distri_tous=plCndDistribution()\n",
    "join_distrib.ask(distri_tous, JP^AP^MP^VP^BP, RP^WE^LI^E)\n",
    "\n",
    "preuve = plValues(RP^WE^LI^E)\n",
    "preuve[WE] = False\n",
    "preuve[LI] = False\n",
    "preuve[E] = False\n",
    "preuve[RP] = False\n",
    "\n",
    "P_distrib = plDistribution()\n",
    "distri_tous.instantiate(P_distrib,preuve)\n",
    "P_tout = plDistribution()\n",
    "P_distrib.compile(P_tout)\n",
    "print(P_tout)"
   ]
  },
  {
   "cell_type": "markdown",
   "metadata": {},
   "source": [
    "3 - P(AP = 1 , VP = 1 , BP = 1)"
   ]
  },
  {
   "cell_type": "code",
   "execution_count": 5,
   "metadata": {},
   "outputs": [
    {
     "name": "stdout",
     "output_type": "stream",
     "text": [
      "P(AP VP BP) = \n",
      "AP\tVP\tBP\t\tProbability\n",
      "0\t0\t0\t\t0.0585914412291975\n",
      "0\t0\t1\t\t0.0116778393123297\n",
      "0\t1\t0\t\t0.169582007006344\n",
      "0\t1\t1\t\t0.0465487130958585\n",
      "1\t0\t0\t\t0.0737012913933367\n",
      "1\t0\t1\t\t0.0203630289275198\n",
      "1\t1\t0\t\t0.494820259402844\n",
      "1\t1\t1\t\t0.124715419632569\n",
      "\n"
     ]
    }
   ],
   "source": [
    "AP_VP_BP = plDistribution()\n",
    "join_distrib.ask(AP_VP_BP, AP^VP^BP)\n",
    "AP_VP_BP.compile(P_tout)\n",
    "print(P_tout)"
   ]
  },
  {
   "cell_type": "markdown",
   "metadata": {},
   "source": [
    "4 - P(MP = 1 , VP = 1 | JP = 0 , AP = 1)"
   ]
  },
  {
   "cell_type": "code",
   "execution_count": 6,
   "metadata": {},
   "outputs": [
    {
     "name": "stdout",
     "output_type": "stream",
     "text": [
      "P(MP VP) = \n",
      "MP\tVP\t\tProbability\n",
      "0\t0\t\t0.05065166868012\n",
      "0\t1\t\t0.278841195519429\n",
      "1\t0\t\t0.0811649238166721\n",
      "1\t1\t\t0.589342211983778\n",
      "\n"
     ]
    }
   ],
   "source": [
    "Cnd_MPVP=plCndDistribution()\n",
    "join_distrib.ask(Cnd_MPVP, MP^VP, JP^AP)\n",
    "\n",
    "preuve = plValues(JP^AP)\n",
    "preuve[JP] = False\n",
    "preuve[AP] = True\n",
    "\n",
    "P_MPVP_distribuee = plDistribution()\n",
    "Cnd_MPVP.instantiate(P_MPVP_distribuee,preuve)\n",
    "P_MPVP = plDistribution()\n",
    "P_MPVP_distribuee.compile(P_MPVP)\n",
    "\n",
    "print(P_MPVP)"
   ]
  }
 ],
 "metadata": {
  "kernelspec": {
   "display_name": "Python 3 (ipykernel)",
   "language": "python",
   "name": "python3"
  },
  "language_info": {
   "codemirror_mode": {
    "name": "ipython",
    "version": 3
   },
   "file_extension": ".py",
   "mimetype": "text/x-python",
   "name": "python",
   "nbconvert_exporter": "python",
   "pygments_lexer": "ipython3",
   "version": "3.9.12"
  }
 },
 "nbformat": 4,
 "nbformat_minor": 4
}
