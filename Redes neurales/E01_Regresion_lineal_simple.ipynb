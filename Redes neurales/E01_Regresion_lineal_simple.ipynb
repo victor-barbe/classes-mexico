{
 "cells": [
  {
   "cell_type": "markdown",
   "metadata": {},
   "source": [
    "# Ejercicio de regresión lineal simple 1\n",
    "\n",
    "Juan Manuel Ahuactzin Larios\n",
    "\n",
    "Este archivo es una copia del archivo '19_Regresion_lineal_simple_1', modifícalo para realisar la regresión de \"Defunciones\" a partir de \"Confirmados\". Una vez que hayas terminado responde a las preguntas en el siguiente formulario [Regresión linea](https://forms.office.com/Pages/ResponsePage.aspx?id=ZyN8oxjPH0ST5YXX2w1JPfiWVLUGDIlPkeqKUojHFiBUNkdOOFlDU1lYMjVRVVhBTTRESzJIQTVPWS4u)."
   ]
  },
  {
   "cell_type": "code",
   "execution_count": null,
   "metadata": {},
   "outputs": [],
   "source": [
    "# Data libraries\n",
    "import math\n",
    "import pandas as pd\n",
    "import numpy as np\n",
    "\n",
    "# Graph\n",
    "import matplotlib.pyplot as plt\n",
    "from matplotlib import style\n",
    "import seaborn as sns\n",
    "\n",
    "# Processing and models\n",
    "from sklearn.linear_model import LinearRegression\n",
    "from sklearn.model_selection import train_test_split\n",
    "from sklearn.metrics import mean_squared_error\n",
    "\n",
    "# matplotlib configuration\n",
    "plt.rcParams['image.cmap'] = \"bwr\"\n",
    "plt.rcParams['figure.dpi'] = \"100\"\n",
    "plt.rcParams['savefig.bbox'] = \"tight\"\n",
    "style.use('ggplot') or plt.style.use('ggplot')\n",
    "\n",
    "# warning configuration\n",
    "# ==============================================================================\n",
    "import warnings\n",
    "warnings.filterwarnings('ignore')"
   ]
  },
  {
   "cell_type": "markdown",
   "metadata": {},
   "source": [
    "## Lectura de los datos"
   ]
  },
  {
   "cell_type": "code",
   "execution_count": null,
   "metadata": {},
   "outputs": [],
   "source": [
    "data = pd.read_excel(\"Datos_COVID_por_estado.xlsx\", index_col = 0) "
   ]
  },
  {
   "cell_type": "markdown",
   "metadata": {},
   "source": [
    "## GRaficación de los datos"
   ]
  },
  {
   "cell_type": "code",
   "execution_count": null,
   "metadata": {},
   "outputs": [],
   "source": [
    "fig, ax = plt.subplots(figsize=(6, 3.84))\n",
    "\n",
    "data.plot(\n",
    "    x    = 'Poblacion',\n",
    "    y    = 'Defunciones',\n",
    "    c    = '#0A7BBB',\n",
    "    kind = \"scatter\",\n",
    "    ax   = ax\n",
    ")\n",
    "ax.set_title('Distribution of population vs deads');"
   ]
  },
  {
   "cell_type": "markdown",
   "metadata": {},
   "source": [
    "## Ejecución de la regresión lineal"
   ]
  },
  {
   "cell_type": "code",
   "execution_count": null,
   "metadata": {},
   "outputs": [],
   "source": [
    "X = data[['Poblacion']]\n",
    "y = data[['Defunciones']]\n",
    "\n",
    "\n",
    "X_train, X_test, y_train, y_test = train_test_split(\n",
    "                                        X.values,\n",
    "                                        y.values,\n",
    "                                        train_size   = 0.8,  #Size of the training set\n",
    "                                        random_state = 1966, #Seed for the random number generation\n",
    "                                        shuffle      = True  #Select aleatory data by shuffling it\n",
    "                                    )\n",
    "\n",
    "# Creation of the model\n",
    "model = LinearRegression()\n",
    "model.fit(X = X_train, y = y_train)"
   ]
  },
  {
   "cell_type": "markdown",
   "metadata": {},
   "source": [
    "## Impresión de los resultados del modelo de regresión lineal"
   ]
  },
  {
   "cell_type": "code",
   "execution_count": null,
   "metadata": {},
   "outputs": [],
   "source": [
    "W =  [model.intercept_[0], model.coef_[0][0]]\n",
    "\n",
    "print(f\"Our model is by consequence: y = {W[0]} + {W[1]}*{X.columns[0]}\")\n",
    "print(\"Coefficient of determination:\", model.score(X, y))\n",
    "\n"
   ]
  },
  {
   "cell_type": "markdown",
   "metadata": {},
   "source": [
    "## Predicción y cálculo de error estándard de los residuos"
   ]
  },
  {
   "cell_type": "code",
   "execution_count": null,
   "metadata": {},
   "outputs": [],
   "source": [
    "predictions = model.predict(X = X_test)\n",
    "\n",
    "error = 0\n",
    "for i in range(len(y_test)):\n",
    "    print(f\" True value vs predicted: {y_test[i,0]} {int(predictions[i])} \")\n",
    "    error += (y_test[i,0]-predictions[i])**2\n",
    "print(f\"Root Mean Square Error by hand: {math.sqrt(error/len(X_test))}\")\n",
    "  \n",
    "rmse = mean_squared_error(\n",
    "        y_true  = y_test,\n",
    "        y_pred  = predictions,\n",
    "        squared = False\n",
    "       )\n",
    "print(\"\")\n",
    "print(f\"Root Mean Square Error : {rmse}\")"
   ]
  },
  {
   "cell_type": "markdown",
   "metadata": {},
   "source": [
    "## Graficación de las predicciones"
   ]
  },
  {
   "cell_type": "code",
   "execution_count": null,
   "metadata": {},
   "outputs": [],
   "source": [
    "fig, ax = plt.subplots()\n",
    "\n",
    "ax.scatter(X_test, predictions, marker='o', color = \"#0A7BBB\", label=\"Predicted\")\n",
    "ax.scatter(X_test, y_test, marker='o', color = \"green\", label=\"Real\")\n",
    "ax.plot(X_test, predictions, label=\"Ordinary least squares\")\n",
    "ax.legend();"
   ]
  },
  {
   "cell_type": "code",
   "execution_count": null,
   "metadata": {},
   "outputs": [],
   "source": []
  }
 ],
 "metadata": {
  "kernelspec": {
   "display_name": "Python 3",
   "language": "python",
   "name": "python3"
  },
  "language_info": {
   "codemirror_mode": {
    "name": "ipython",
    "version": 3
   },
   "file_extension": ".py",
   "mimetype": "text/x-python",
   "name": "python",
   "nbconvert_exporter": "python",
   "pygments_lexer": "ipython3",
   "version": "3.8.5"
  }
 },
 "nbformat": 4,
 "nbformat_minor": 4
}
