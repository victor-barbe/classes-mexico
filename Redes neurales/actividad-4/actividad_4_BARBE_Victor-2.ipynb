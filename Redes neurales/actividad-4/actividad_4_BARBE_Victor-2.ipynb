{
  "nbformat": 4,
  "nbformat_minor": 0,
  "metadata": {
    "colab": {
      "provenance": [],
      "collapsed_sections": []
    },
    "kernelspec": {
      "name": "python3",
      "display_name": "Python 3"
    },
    "language_info": {
      "name": "python"
    }
  },
  "cells": [
    {
      "cell_type": "markdown",
      "source": [
        "###Activity 4\n",
        "\n",
        "BARBE Victor\n",
        "403715"
      ],
      "metadata": {
        "id": "OqsrsqIZVODd"
      }
    },
    {
      "cell_type": "code",
      "source": [
        "import numpy as np\n",
        "import math\n",
        "import pandas as pd\n",
        "import seaborn as sns\n",
        "import matplotlib.pyplot as plt"
      ],
      "metadata": {
        "id": "mau4cdss4uTN"
      },
      "execution_count": 12,
      "outputs": []
    },
    {
      "cell_type": "markdown",
      "source": [
        "###The defined parameters"
      ],
      "metadata": {
        "id": "v_hctgSGzXtx"
      }
    },
    {
      "cell_type": "code",
      "execution_count": 7,
      "metadata": {
        "id": "bgfEQ_Pk4Xmv"
      },
      "outputs": [],
      "source": [
        "#total_population of the school\n",
        "total_population = 9867\n",
        "#number of medecine student, they always wear a blouse\n",
        "medecine_student = 389\n",
        "#number of non medecin student taking a lab this semester (they only wear a blouse when they are at the laboratory, once a week)\n",
        "NMS_taking_laboratory = 3737"
      ]
    },
    {
      "cell_type": "markdown",
      "source": [
        "###We compute the needed values to compute the final probability\n"
      ],
      "metadata": {
        "id": "H8t3PZGhzQCY"
      }
    },
    {
      "cell_type": "code",
      "source": [
        "#probability of being a medecine student\n",
        "P_medecine_student = medecine_student/total_population\n",
        "\n",
        "#probabiliy of having a blouse : medicine student always wear it, so we multiply the number of med students by one\n",
        "#non-med students taking labs only wear it at that moment : so thats only once a week (1 out of 6 days)\n",
        "#the rest never wear one, so the value is 0\n",
        "#We divide the total by the number of students in the university to get the probability of having a blouse)\n",
        "P_having_blouse = (1*medecine_student + 1/6 * NMS_taking_laboratory + 0) / total_population \n",
        "print(P_having_blouse)\n",
        "\n",
        "#we compute the proba of having a blouse knowing you are in medicine (it is one because you always wear it)\n",
        "P_having_blouse_knowing_medicine_student = 1"
      ],
      "metadata": {
        "colab": {
          "base_uri": "https://localhost:8080/"
        },
        "id": "rRwOCvL-5EMP",
        "outputId": "6876810b-80df-494d-c2ef-a34f9082b0c9"
      },
      "execution_count": 8,
      "outputs": [
        {
          "output_type": "stream",
          "name": "stdout",
          "text": [
            "0.10254721124286341\n"
          ]
        }
      ]
    },
    {
      "cell_type": "markdown",
      "source": [
        "###Now we can compute P(being_in_medicine | you have a blouse)\n"
      ],
      "metadata": {
        "id": "b2rfifH43zc0"
      }
    },
    {
      "cell_type": "code",
      "source": [
        "#we compute the probability of being in medicine knowing you wear a blouse\n",
        "P_being_in_medicine_knowing_having_blouse = (P_having_blouse_knowing_medicine_student*P_medecine_student)/P_having_blouse\n",
        "print(P_being_in_medicine_knowing_having_blouse)"
      ],
      "metadata": {
        "colab": {
          "base_uri": "https://localhost:8080/"
        },
        "id": "N1nm7lKW1i0d",
        "outputId": "945ec363-d840-4e38-f951-edbc72c763f9"
      },
      "execution_count": 9,
      "outputs": [
        {
          "output_type": "stream",
          "name": "stdout",
          "text": [
            "0.38445066710591336\n"
          ]
        }
      ]
    },
    {
      "cell_type": "markdown",
      "source": [
        "###Making a plot"
      ],
      "metadata": {
        "id": "pcRcrLdvN01n"
      }
    },
    {
      "cell_type": "code",
      "source": [
        "#x = [P_being_in_medicine_knowing_having_blouse]\n",
        "#plt.bar(x,height = 12)\n",
        "#plt.show()\n",
        "data = {'P(Med_student | uses_blouse)':P_being_in_medicine_knowing_having_blouse, 'P(Non_Med_student | uses_blouse)': 1 - P_being_in_medicine_knowing_having_blouse}\n",
        "probas = list(data.keys())\n",
        "values = list(data.values())\n",
        "fig = plt.figure(figsize = (10, 5))\n",
        "plt.bar(probas, values, color ='green', width = 0.5)\n",
        "\n",
        "plt.xlabel(\"Events\")\n",
        "plt.ylabel(\"Probability\")\n",
        "plt.title(\"Repartition of types of students knowing their wear a blouse\")\n",
        "plt.show()\n",
        "plt.savefig('activity_2.pdf')"
      ],
      "metadata": {
        "colab": {
          "base_uri": "https://localhost:8080/",
          "height": 368
        },
        "id": "9l9TJjvHZPmZ",
        "outputId": "dbbc603e-d543-4b45-9fff-a55c2ecb4986"
      },
      "execution_count": 23,
      "outputs": [
        {
          "output_type": "display_data",
          "data": {
            "text/plain": [
              "<Figure size 720x360 with 1 Axes>"
            ],
            "image/png": "[encoded data removed]"
          },
          "metadata": {
            "needs_background": "light"
          }
        },
        {
          "output_type": "display_data",
          "data": {
            "text/plain": [
              "<Figure size 432x288 with 0 Axes>"
            ]
          },
          "metadata": {}
        }
      ]
    }
  ]
}