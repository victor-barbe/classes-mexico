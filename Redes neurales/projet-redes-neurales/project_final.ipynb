{
 "cells": [
  {
   "cell_type": "markdown",
   "id": "f5c66c03",
   "metadata": {},
   "source": [
    "# Projet 1\n",
    "\n",
    "BREGEON Antoine\n",
    "\n",
    "BARBE Victor\n",
    "\n",
    "GAUCHER Pierre Louis\n"
   ]
  },
  {
   "cell_type": "code",
   "execution_count": 1,
   "id": "44df49c6",
   "metadata": {},
   "outputs": [
    {
     "name": "stderr",
     "output_type": "stream",
     "text": [
      "\n",
      "*******************************************************************\n",
      "*                    ProBT Library   V3.1.99-20160616             *\n",
      "*                                                                 *\n",
      "*               Copyright 2001-2008: CNRS & Probayes              *\n",
      "*               Copyright 2009-2020: Probayes                     *\n",
      "*                      All rights reserved                        *\n",
      "*******************************************************************\n",
      "\n"
     ]
    }
   ],
   "source": [
    "# Add ProBT's path\n",
    "import sys\n",
    "sys.path.append('../lib')\n",
    "\n",
    "# Import ProBT\n",
    "from probt import *\n",
    "\n",
    "from auxFunctions import *\n",
    "\n",
    "import math\n",
    "\n",
    "import matplotlib.pyplot as plt\n"
   ]
  },
  {
   "cell_type": "code",
   "execution_count": 2,
   "id": "928c5172",
   "metadata": {},
   "outputs": [],
   "source": [
    "#Declaration of variable\n",
    "#type of variable int from 0 to 10\n",
    "var_type= plIntegerType(0,10) \n",
    "\n",
    "water_inputI0=plVariable(\"I0\",var_type)#I0\n",
    "water_inputI1=plVariable(\"I1\",var_type)#I1\n",
    "water_output=plVariable(\"O\",var_type)#O\n",
    "sensor=plVariable(\"S\",var_type)#S\n",
    "controller=plVariable(\"C\",var_type)#C\n",
    "external_factor=plVariable(\"H\",var_type)#H\n",
    "system=plVariable(\"F\",var_type)# F\n",
    "\n",
    "# save the value for futur user input \n",
    "result = plValues(water_inputI0^water_inputI1^water_output^controller^external_factor^system)  \n"
   ]
  },
  {
   "cell_type": "code",
   "execution_count": 3,
   "id": "016160f7",
   "metadata": {},
   "outputs": [],
   "source": [
    "# Fonction of the problem giving the output 0 with all variable in parametter\n",
    "def f1(water_output,traitement_info):\n",
    "    #calcul of O*\n",
    "    O_max=(traitement_info[0]+traitement_info[1]+10)/3\n",
    "    O_max=round(O_max)\n",
    "    #calcul of alpha\n",
    "    alpha=(traitement_info[0]+traitement_info[1]+traitement_info[2]-traitement_info[3]+traitement_info[4])/3\n",
    "    alpha=round(alpha)\n",
    "    #determine final value of O depending of alpha value\n",
    "    if alpha>=0 and alpha<=O_max:\n",
    "        output=alpha\n",
    "    elif alpha>=O_max:\n",
    "        output=2*O_max-alpha\n",
    "    else : \n",
    "        output=0\n",
    "    water_output[0]=output\n",
    "    "
   ]
  },
  {
   "cell_type": "markdown",
   "id": "5dd546cb",
   "metadata": {},
   "source": [
    "## Creation of the model"
   ]
  },
  {
   "cell_type": "code",
   "execution_count": 4,
   "id": "e52a05da",
   "metadata": {},
   "outputs": [
    {
     "name": "stdout",
     "output_type": "stream",
     "text": [
      "P(O|I0 I1 F H C) = if (O) = f_1(I0 I1 F H C) then 1 else 0.0 \n"
     ]
    }
   ],
   "source": [
    "#conjonction of variable\n",
    "traitement_info = plVariablesConjunction(water_inputI0^water_inputI1^system^external_factor^controller)\n",
    "#The function for the general result\n",
    "result_function = plPythonExternalFunction(water_output, traitement_info, f1)\n",
    "#Probability of each result case. General application\n",
    "P_result = plCndDeterministic(water_output, traitement_info, result_function)\n",
    "\n",
    "print(P_result)"
   ]
  },
  {
   "cell_type": "code",
   "execution_count": 5,
   "id": "ba4de47a",
   "metadata": {},
   "outputs": [],
   "source": [
    "# Creation of uniform law for each variable, for the situations where we have no information about it\n",
    "P_F = plUniform(system)\n",
    "P_H = plUniform(external_factor)\n",
    "P_C = plUniform(controller)\n",
    "P_IO = plUniform(water_inputI0)\n",
    "P_I1 = plUniform(water_inputI1)"
   ]
  },
  {
   "cell_type": "code",
   "execution_count": 6,
   "id": "53aa87ed",
   "metadata": {},
   "outputs": [
    {
     "data": {
      "text/plain": [
       "P(I0 I1 F H C O) =  { P(F)P(H)P(C)P(I0)P(I1)P(O|I0 I1 F H C) } "
      ]
     },
     "execution_count": 6,
     "metadata": {},
     "output_type": "execute_result"
    }
   ],
   "source": [
    "#Create Join distribution with all the variable of the problem\n",
    "jd = plJointDistribution(traitement_info^water_output,P_F*P_H*P_C*P_IO*P_I1*P_result)\n",
    "jd"
   ]
  },
  {
   "cell_type": "markdown",
   "id": "64e6ec37",
   "metadata": {},
   "source": [
    "## 1st question P(O | I0=i0  I1=i1)"
   ]
  },
  {
   "cell_type": "code",
   "execution_count": 7,
   "id": "aac09b4e",
   "metadata": {},
   "outputs": [],
   "source": [
    "prob = plCndDistribution()\n",
    "question = plDistribution()\n",
    "compiled_question = plDistribution()\n",
    "# question 1 to the model \n",
    "jd.ask(prob, water_output,water_inputI0^water_inputI1)"
   ]
  },
  {
   "cell_type": "code",
   "execution_count": 8,
   "id": "46fdcf61",
   "metadata": {},
   "outputs": [
    {
     "name": "stdout",
     "output_type": "stream",
     "text": [
      "Give me IO: 4\n",
      "Give me I1: 6\n",
      "P(O | IO = 4 , I1=6)\n",
      "P(O) = \n",
      "O\t\tProbability\n",
      "0\t\t0.00300525920360631\n",
      "1\t\t0.0232907588279489\n",
      "2\t\t0.0638617580766341\n",
      "3\t\t0.124718256949662\n",
      "4\t\t0.186326070623591\n",
      "5\t\t0.226897069872276\n",
      "6\t\t0.247182569496619\n",
      "7\t\t0.124718256949662\n",
      "8\t\t0\n",
      "9\t\t0\n",
      "10\t\t0\n",
      "\n"
     ]
    },
    {
     "data": {
      "image/png": "[encoded data removed]",
      "text/plain": [
       "<Figure size 432x288 with 1 Axes>"
      ]
     },
     "metadata": {
      "needs_background": "light"
     },
     "output_type": "display_data"
    }
   ],
   "source": [
    "# ask to the user input of IO and I1 \n",
    "I0 = int(input(\"Give me IO: \"))\n",
    "I1 = int(input(\"Give me I1: \"))\n",
    "#give value I0 and I1 \n",
    "result[water_inputI0] = I0\n",
    "result[water_inputI1] = I1\n",
    "\n",
    "#get P(O | I0=i0 I1=i1)\n",
    "prob.instantiate(question,result)\n",
    "question.compile(compiled_question)\n",
    "print(f'P(O | IO = {I0} , I1={I1})')\n",
    "\n",
    "print(compiled_question.compile())\n",
    "# plot distribution graph\n",
    "plotDistribution(compiled_question)"
   ]
  },
  {
   "cell_type": "markdown",
   "id": "9e7b2df6",
   "metadata": {},
   "source": [
    "## Question 2 : P(H F | O=o I1=i1)"
   ]
  },
  {
   "cell_type": "code",
   "execution_count": 9,
   "id": "2694d89a",
   "metadata": {},
   "outputs": [],
   "source": [
    "prob = plCndDistribution()\n",
    "question = plDistribution()\n",
    "compiled_question = plDistribution()\n",
    "# question 2 to the model \n",
    "jd.ask(prob, system^external_factor, water_output^water_inputI1)"
   ]
  },
  {
   "cell_type": "code",
   "execution_count": 10,
   "id": "db87b6bb",
   "metadata": {},
   "outputs": [
    {
     "name": "stdout",
     "output_type": "stream",
     "text": [
      "Give me 0: 4\n",
      "Give me I1: 6\n",
      "P(HF | O = 4) , I1=6\n"
     ]
    },
    {
     "data": {
      "text/plain": [
       "\" Test display graph\\na = compiled_question.as_dataframe()\\nprint(type(a))\\na=a.assign(H=H)\\nH=[]\\nF=[]\\nfor i in range (0,11):\\n    for j in range(0,11):\\n        H.append(j)\\nfor i in range (0,11):\\n    for j in range(0,11):\\n        F.append(i)\\na=a.assign(F=F)\\na=a.assign(H=H)\\n\\nprint(a)\\n\\nfig=plt.figure()\\nax = plt.axes(projection='3d')\\nax.contour3D(a['H'],a['F'],a,50,cmap='binary')\\nax.set_xlabel('H')\\nax.set_xlabel('F')\\nax.set_xlabel('P')\\nax.view_init(60,35)\\nfig\""
      ]
     },
     "execution_count": 10,
     "metadata": {},
     "output_type": "execute_result"
    }
   ],
   "source": [
    "# ask O et I1 to the user\n",
    "O = int(input(\"Give me 0: \"))\n",
    "I1 = int(input(\"Give me I1: \"))\n",
    "# give the fixed value to O et I1\n",
    "result[water_output] = O\n",
    "result[water_inputI1] = I1\n",
    "\n",
    "#GET  P(H F | O=o I1=i1)\n",
    "prob.instantiate(question,result)\n",
    "question.compile(compiled_question)\n",
    "print(f'P(HF | O = {O}) , I1={I1}')\n",
    "# print distribution tab values\n",
    "compiled_question.compile()\n",
    "\"\"\" Test display graph\n",
    "a = compiled_question.as_dataframe()\n",
    "print(type(a))\n",
    "a=a.assign(H=H)\n",
    "H=[]\n",
    "F=[]\n",
    "for i in range (0,11):\n",
    "    for j in range(0,11):\n",
    "        H.append(j)\n",
    "for i in range (0,11):\n",
    "    for j in range(0,11):\n",
    "        F.append(i)\n",
    "a=a.assign(F=F)\n",
    "a=a.assign(H=H)\n",
    "\n",
    "print(a)\n",
    "\n",
    "fig=plt.figure()\n",
    "ax = plt.axes(projection='3d')\n",
    "ax.contour3D(a['H'],a['F'],a,50,cmap='binary')\n",
    "ax.set_xlabel('H')\n",
    "ax.set_xlabel('F')\n",
    "ax.set_xlabel('P')\n",
    "ax.view_init(60,35)\n",
    "fig\"\"\""
   ]
  },
  {
   "cell_type": "markdown",
   "id": "7f9cfaa4",
   "metadata": {},
   "source": [
    "## Question 3: P( I0 | O=o I1=i1)"
   ]
  },
  {
   "cell_type": "code",
   "execution_count": 11,
   "id": "dd8b175d",
   "metadata": {},
   "outputs": [],
   "source": [
    "prob = plCndDistribution()\n",
    "question = plDistribution()\n",
    "compiled_question = plDistribution()\n",
    "# question 3 to the model \n",
    "jd.ask(prob, water_inputI0,water_output^water_inputI1)"
   ]
  },
  {
   "cell_type": "code",
   "execution_count": 12,
   "id": "b2ac83b6",
   "metadata": {},
   "outputs": [
    {
     "name": "stdout",
     "output_type": "stream",
     "text": [
      "give the values of O: 7\n",
      "Give me I1: 5\n",
      "P(I0 | O = 0) , I1=5\n",
      "P(I0) = \n",
      "I0\t\tProbability\n",
      "0\t\t0\n",
      "1\t\t0\n",
      "2\t\t0\n",
      "3\t\t0\n",
      "4\t\t0\n",
      "5\t\t0.0984578884934757\n",
      "6\t\t0.116251482799526\n",
      "7\t\t0.13226571767497\n",
      "8\t\t0.195136417556346\n",
      "9\t\t0.218268090154211\n",
      "10\t\t0.239620403321471\n",
      "\n"
     ]
    },
    {
     "data": {
      "image/png": "[encoded data removed]",
      "text/plain": [
       "<Figure size 432x288 with 1 Axes>"
      ]
     },
     "metadata": {
      "needs_background": "light"
     },
     "output_type": "display_data"
    }
   ],
   "source": [
    "# ask O et I1 to the user\n",
    "O= int(input(\"give the values of O: \"))\n",
    "I1=int(input(\"Give me I1: \"))\n",
    "# give the fixed value to O et I1\n",
    "result[water_output] = O\n",
    "result[water_inputI1] = I1\n",
    "\n",
    "#get P( I0 | O=o I1=i1)\n",
    "prob.instantiate(question,result)\n",
    "question.compile(compiled_question)\n",
    "print(f'P(I0 | O = {0}) , I1={I1}')\n",
    "# print distribution tab values\n",
    "print(compiled_question.compile())\n",
    "# plot distribution graph\n",
    "plotDistribution(compiled_question)"
   ]
  },
  {
   "cell_type": "markdown",
   "id": "d7d96748",
   "metadata": {},
   "source": [
    "## Question 4 P(O | C= c I0=i0 I1=i0)"
   ]
  },
  {
   "cell_type": "code",
   "execution_count": 13,
   "id": "91b25557",
   "metadata": {},
   "outputs": [],
   "source": [
    "prob = plCndDistribution()\n",
    "question = plDistribution()\n",
    "compiled_question = plDistribution()\n",
    "# question 4 to the model \n",
    "jd.ask(prob, water_output,water_inputI0^water_inputI1^controller)"
   ]
  },
  {
   "cell_type": "code",
   "execution_count": 14,
   "id": "788d591c",
   "metadata": {},
   "outputs": [
    {
     "name": "stdout",
     "output_type": "stream",
     "text": [
      "give the values of I0: 4\n",
      "Give me the values of the controler: 7\n",
      "P(I0 | I0 = 4) , I1=4, C=7\n",
      "P(O) = \n",
      "O\t\tProbability\n",
      "0\t\t0\n",
      "1\t\t0.0247933884297521\n",
      "2\t\t0.0991735537190083\n",
      "3\t\t0.173553719008264\n",
      "4\t\t0.256198347107438\n",
      "5\t\t0.297520661157025\n",
      "6\t\t0.148760330578512\n",
      "7\t\t0\n",
      "8\t\t0\n",
      "9\t\t0\n",
      "10\t\t0\n",
      "\n"
     ]
    },
    {
     "data": {
      "image/png": "[encoded data removed]",
      "text/plain": [
       "<Figure size 432x288 with 1 Axes>"
      ]
     },
     "metadata": {
      "needs_background": "light"
     },
     "output_type": "display_data"
    }
   ],
   "source": [
    "# ask O and C to the user\n",
    "I0= int(input(\"give the values of I0: \"))\n",
    "C= int(input(\"Give me the values of the controler: \"))\n",
    "\n",
    "# give the value IO I1 and C \n",
    "result[water_inputI0] = I0\n",
    "result[water_inputI1] = I0\n",
    "result[controller] = I1\n",
    "\n",
    "#Get P(O2 | C=c I0=i0 I1=i0)\n",
    "prob.instantiate(question,result)\n",
    "question.compile(compiled_question)\n",
    "print(f'P(I0 | I0 = {I0}) , I1={I0}, C={C}')\n",
    "# print distribution tab values\n",
    "print(compiled_question.compile())\n",
    "# plot distribution graph\n",
    "plotDistribution(compiled_question)"
   ]
  },
  {
   "cell_type": "code",
   "execution_count": null,
   "id": "40322cd4",
   "metadata": {},
   "outputs": [],
   "source": []
  },
  {
   "cell_type": "code",
   "execution_count": null,
   "id": "9c2fdebc",
   "metadata": {},
   "outputs": [],
   "source": []
  }
 ],
 "metadata": {
  "kernelspec": {
   "display_name": "Python 3 (ipykernel)",
   "language": "python",
   "name": "python3"
  },
  "language_info": {
   "codemirror_mode": {
    "name": "ipython",
    "version": 3
   },
   "file_extension": ".py",
   "mimetype": "text/x-python",
   "name": "python",
   "nbconvert_exporter": "python",
   "pygments_lexer": "ipython3",
   "version": "3.9.12"
  }
 },
 "nbformat": 4,
 "nbformat_minor": 5
}
