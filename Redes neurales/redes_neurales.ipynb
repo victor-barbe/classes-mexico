{
 "cells": [
  {
   "cell_type": "code",
   "execution_count": null,
   "metadata": {},
   "outputs": [],
   "source": [
    "import numpy as np\n",
    "import matplotlib as plt\n",
    "\n",
    "C1_X = [1,1,2,3]\n",
    "C1_Y = [2,3,2,3]\n",
    "\n",
    "C2_X = [6,7,7,6]\n",
    "C2_Y = [6,8,7,7]\n",
    "\n",
    "plt.scatter(C1_X, C1_Y, c =\"ORANGE\")\n",
    "plt.scatter(C2_X, C2_Y, c =\"GREEN\")\n"
   ]
  }
 ],
 "metadata": {
  "kernelspec": {
   "display_name": "Python 3.10.1 64-bit",
   "language": "python",
   "name": "python3"
  },
  "language_info": {
   "name": "python",
   "version": "3.10.1"
  },
  "orig_nbformat": 4,
  "vscode": {
   "interpreter": {
    "hash": "aee8b7b246df8f9039afb4144a1f6fd8d2ca17a180786b69acc140d282b71a49"
   }
  }
 },
 "nbformat": 4,
 "nbformat_minor": 2
}
